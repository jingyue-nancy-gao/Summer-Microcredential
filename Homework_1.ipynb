{
  "nbformat": 4,
  "nbformat_minor": 0,
  "metadata": {
    "colab": {
      "name": "Homework 1.ipynb",
      "provenance": [],
      "collapsed_sections": [],
      "include_colab_link": true
    },
    "kernelspec": {
      "name": "python3",
      "display_name": "Python 3"
    },
    "language_info": {
      "name": "python"
    }
  },
  "cells": [
    {
      "cell_type": "markdown",
      "metadata": {
        "id": "view-in-github",
        "colab_type": "text"
      },
      "source": [
        "<a href=\"https://colab.research.google.com/github/jingyue-nancy-gao/Summer-Microcredential/blob/main/Homework_1.ipynb\" target=\"_parent\"><img src=\"https://colab.research.google.com/assets/colab-badge.svg\" alt=\"Open In Colab\"/></a>"
      ]
    },
    {
      "cell_type": "markdown",
      "source": [
        "# Answer all the questions!"
      ],
      "metadata": {
        "id": "FkJsXd8D06Rp"
      }
    },
    {
      "cell_type": "markdown",
      "source": [
        "##Write a Python program to get the volume of a sphere with radius 6"
      ],
      "metadata": {
        "id": "elOgKZR009ex"
      }
    },
    {
      "cell_type": "code",
      "source": [
        "def volume_of_a_sphere(r):\n",
        "  \"\"\"\n",
        "  Description: This function gets the volume of a sphere with radius r.\n",
        "  Created by: Jingyue Gao\n",
        "  Input: radius r\n",
        "  Output: volume\n",
        "  \"\"\"\n",
        "# In this line, I am defining a function volume_of_a_sphere()\n",
        "# To define the function, I used the structure that ['def' name_of_function():][whatever the function is supposed to do.]\n",
        "# There is one required parameter for this function, radius, r. \n",
        "\n",
        "  pi = 3.1415926\n",
        "  # In this line, I am defining the pi.\n",
        "  # To define the pi, I created a variable name as pi and then assigned it to 3.1415926\n",
        "  \n",
        "  return(4/3 * pi * r * r * r)\n",
        "  # In this line, I am getting the output of function the result of volumn\n",
        "  # To get the volumn, I calculated the volume of a sphere with radius r\n",
        "  # To calculate it, I used the sphere volumn formula, which is V = 4/3 * pi * r * r * r\n",
        "\n",
        "\n",
        "print(\"Volume of a sphere with radius 6 is\", volume_of_a_sphere(6))\n",
        "# In this line, I am printing the volume of a sphere with radius 6.\n",
        "# To get the value, I called the function volume_of_a_sphere() with parameter [6]\n",
        "# To print it out, I used function print()"
      ],
      "metadata": {
        "id": "YbhKO6Cs09av",
        "colab": {
          "base_uri": "https://localhost:8080/"
        },
        "outputId": "00b4c704-6ea3-48c6-dc8e-e3ea537faf98"
      },
      "execution_count": 12,
      "outputs": [
        {
          "output_type": "stream",
          "name": "stdout",
          "text": [
            "Volume of a sphere with radius 6 is 904.7786687999999\n"
          ]
        }
      ]
    },
    {
      "cell_type": "markdown",
      "source": [
        "##Write a Python program to find whether a given number (accept from the user) is even or odd"
      ],
      "metadata": {
        "id": "OuX7aazu09X1"
      }
    },
    {
      "cell_type": "code",
      "source": [
        "n = int(input(\"Enter a number: \"))\n",
        "# In this line, I am defining an varible n.\n",
        "# To define a varible, I requested user to input a number and then assigned this number to the varible n.\n",
        "# By assign I mean to simply use a single equal sign.\n",
        "\n",
        "if n % 2 == 0:\n",
        "  print (\"It's an even number\")\n",
        "else:\n",
        "  print (\"It's an odd number\")\n",
        "\n",
        "# In this line, I am having a condition statements.\n",
        "# To have a condition statement, I used the structure that [if (condition):  do something][else: do something]]\n",
        "# By conditioning it, I mean to get its bool value.\n",
        "# If n divided by 2 equals to 0 is [True], then print out the message \"It's an even number\"\n",
        "# If n divided by 2 equals to 0 is NOT [True], then print out the message \"It's an odd number\""
      ],
      "metadata": {
        "id": "vcYhNNaU09Uz",
        "colab": {
          "base_uri": "https://localhost:8080/"
        },
        "outputId": "c03eaa77-95ab-403f-a8db-94bc978486aa"
      },
      "execution_count": 14,
      "outputs": [
        {
          "output_type": "stream",
          "name": "stdout",
          "text": [
            "Enter a number: 4\n",
            "It's an even number\n"
          ]
        }
      ]
    },
    {
      "cell_type": "markdown",
      "source": [
        "##Write a Python program to count the number 4 in a given list"
      ],
      "metadata": {
        "id": "NP5TZKqO09Rr"
      }
    },
    {
      "cell_type": "code",
      "source": [
        "numberList = [1, 2, 3, 5, 6, 7, 8, 4, 4]\n",
        "\n",
        "def count_the_number_4_in_a_given_list(numberList):\n",
        "  \"\"\"\n",
        "  Description: This function count the number 4 in a given list\n",
        "  Created by: Jingyue Gao\n",
        "  Input: list of numbers\n",
        "  Output: the number that 4 shows up in a given list\n",
        "  \"\"\"\n",
        "# In this line, I am defining a function count_the_number_4_in_a_given_list()\n",
        "# To define the function, I used the structure that ['def' name_of_function():][whatever the function is supposed to do.]\n",
        "# There is one required parameter for this function, the number list, numberList. \n",
        "\n",
        "  times_4_shows_up = 0\n",
        "  # In this line, I am defining an varible times_4_shows_up.\n",
        "  # To define a varible times_4_shows_up, I created a variable and then assigned 0 to it. \n",
        "  # By assign I mean to simply use a single equal sign.\n",
        "\n",
        "  print(\"Given list: \", numberList)\n",
        "  # In this line, I am printing all elements in the list numberList.  \n",
        "\n",
        "  for i in numberList:\n",
        "  # In this line, I am using a for loop\n",
        "  # To use a for loop, I used the structure that [for interator in array:  do something]\n",
        "  # interator     ->  i\n",
        "  # array         ->  numberList\n",
        "  # do something  ->  run condition statements\n",
        "\n",
        "    if i == 4:\n",
        "      times_4_shows_up = times_4_shows_up + 1\n",
        "    # In this line, I am having a condition statements.\n",
        "    # To have a condition statement, I used the structure that [if (condition):  do something][else: do something]]\n",
        "    # By conditioning it, I mean to get its bool value.\n",
        "    # If i equals to 4 is [True], then redine the variable times_4_shows_up.\n",
        "    # To redefine a varible times_4_shows_up, I made variable and then assigned the value [times_4_shows_up + 1] to it. \n",
        "    \n",
        "  return times_4_shows_up\n",
        "\n",
        "result = count_the_number_4_in_a_given_list(numberList)\n",
        "# In this line, I am defining an varible count_the_number_4_in_a_given_list.\n",
        "# To define a varible count_the_number_4_in_a_given_list, I created a variable and then assigned the reture value of function count_the_number_4_in_a_given_list(numberList) to it. \n",
        "# By assign I mean to simply use a single equal sign.\n",
        "\n",
        "if result == 0:\n",
        "  print(\"There is no number 4 in the given list.\")\n",
        "elif result == 1:\n",
        "  print(\"Number 4 shows up once in the given list.\")\n",
        "else:\n",
        "  print(\"Number 4 shows up\", result, \"times in the given list.\")\n",
        "# In this line, I am having a condition statements.\n",
        "# To have a condition statement, I used the structure that [if (condition):  do something][elif (condition)[else: do something]]\n",
        "# By conditioning it, I mean to get its bool value.\n",
        "# If result equals to 0 is [True], then print out the message \"There is no number 4 in the given list.\"\n",
        "# If result equals to 1 is [True], then print out the message \"Number 4 shows up once in the given list.\"\n",
        "# If result equals to 0 is not [True] and if result equals to 1 is not [True], then print out the message \"Number 4 shows up\", result, \"times in the given list.\""
      ],
      "metadata": {
        "id": "oWZ3vTfW09Oh",
        "colab": {
          "base_uri": "https://localhost:8080/"
        },
        "outputId": "88000133-e6a9-4f88-94d2-274e77b3371b"
      },
      "execution_count": 28,
      "outputs": [
        {
          "output_type": "stream",
          "name": "stdout",
          "text": [
            "Given list:  [1, 2, 3, 5, 6, 7, 8, 4, 4]\n",
            "Number 4 shows up 2 times in the given list.\n"
          ]
        }
      ]
    },
    {
      "cell_type": "markdown",
      "source": [
        "##Write a Python program that will accept the base and height of a triangle and compute the area"
      ],
      "metadata": {
        "id": "IK0FvUoa1MJG"
      }
    },
    {
      "cell_type": "code",
      "source": [
        "def compute_triangle_area (base, height):\n",
        "  \"\"\"\n",
        "  Description: This function accepts the base and height of a triangle and compute the area\n",
        "  Created by: Jingyue Gao\n",
        "  Input: number of base, number of height\n",
        "  Output: the value of triangle's area\n",
        "  \"\"\"\n",
        "# In this line, I am defining a function compute_triangle_area()\n",
        "# To define the function, I used the structure that ['def' name_of_function():][whatever the function is supposed to do.]\n",
        "# There is two required parameter for this function, the base of a triangle, base; and the height of a triangle, height.\n",
        "\n",
        "  return (1/2 * base * height)\n",
        "  # In this line, I am getting the output of function the result of volumn\n",
        "  # To get the area, I calculated the area of a triangle\n",
        "  # To calculate it, I used the triangel area formula, which is A = 1/2 * h * a\n",
        "\n",
        "base = int(input(\"Enter a number of base: \"))\n",
        "# In this line, I am defining an varible base.\n",
        "# To define a varible base, I requested user to input a number and then assigned this number to the varible base.\n",
        "# By assign I mean to simply use a single equal sign.\n",
        "\n",
        "height = int(input(\"Enter a number of height: \"))\n",
        "# In this line, I am defining an varible height.\n",
        "# To define a varible, I requested user to input a number and then assigned this number to the varible height.\n",
        "# By assign I mean to simply use a single equal sign.\n",
        "\n",
        "print(\"Area of the triangle is \", compute_triangle_area (base, height))\n",
        "# In this line, I am calling the function compute_triangle_area(), with two parameter base and height.\n",
        " "
      ],
      "metadata": {
        "id": "G02dv4rh1MFs",
        "colab": {
          "base_uri": "https://localhost:8080/"
        },
        "outputId": "6860c8fc-e418-435a-b4f2-d4574c635f4e"
      },
      "execution_count": 39,
      "outputs": [
        {
          "output_type": "stream",
          "name": "stdout",
          "text": [
            "Enter a number of base: 3\n",
            "Enter a number of height: 5\n",
            "Area of the triangle is  7.5\n"
          ]
        }
      ]
    },
    {
      "cell_type": "markdown",
      "source": [
        "##Write a Python program to convert the distance (in feet) to inches, yards, and miles."
      ],
      "metadata": {
        "id": "sOkeycZk1L5-"
      }
    },
    {
      "cell_type": "code",
      "source": [
        "def convert_the_distance(inFeet):\n",
        "  \"\"\"\n",
        "  Description: This function converts the distance (in feet) to inches, yards, and miles.\n",
        "  Created by: Jingyue Gao\n",
        "  Input: number of the distance in feet\n",
        "  Output: number of the distance in inches, yards, and miles\n",
        "  \"\"\""
      ],
      "metadata": {
        "id": "YtW-ZxqB1L2c"
      },
      "execution_count": null,
      "outputs": []
    },
    {
      "cell_type": "code",
      "source": [
        ""
      ],
      "metadata": {
        "id": "xTRt2PklPc8-"
      },
      "execution_count": null,
      "outputs": []
    }
  ]
}