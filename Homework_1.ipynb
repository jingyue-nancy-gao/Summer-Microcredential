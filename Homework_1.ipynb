{
  "nbformat": 4,
  "nbformat_minor": 0,
  "metadata": {
    "colab": {
      "name": "Homework 1.ipynb",
      "provenance": [],
      "collapsed_sections": [],
      "include_colab_link": true
    },
    "kernelspec": {
      "name": "python3",
      "display_name": "Python 3"
    },
    "language_info": {
      "name": "python"
    }
  },
  "cells": [
    {
      "cell_type": "markdown",
      "metadata": {
        "id": "view-in-github",
        "colab_type": "text"
      },
      "source": [
        "<a href=\"https://colab.research.google.com/github/jingyue-nancy-gao/Summer-Microcredential/blob/main/Homework_1.ipynb\" target=\"_parent\"><img src=\"https://colab.research.google.com/assets/colab-badge.svg\" alt=\"Open In Colab\"/></a>"
      ]
    },
    {
      "cell_type": "markdown",
      "source": [
        "# Answer all the questions!"
      ],
      "metadata": {
        "id": "FkJsXd8D06Rp"
      }
    },
    {
      "cell_type": "markdown",
      "source": [
        "##Write a Python program to get the volume of a sphere with radius 6"
      ],
      "metadata": {
        "id": "elOgKZR009ex"
      }
    },
    {
      "cell_type": "code",
      "source": [
        "def volume_of_a_sphere(r):\n",
        "  \"\"\"\n",
        "  Description: This function gets the volume of a sphere with radius r.\n",
        "  Created by: Jingyue Gao\n",
        "  Input: radius r\n",
        "  Output: volume\n",
        "  \"\"\"\n",
        "\n",
        "  pi = 3.1415926\n",
        "  return(4/3 * pi * r * r * r)\n",
        "\n",
        "print(\"Volume of a sphere with radius 6 is\", volume_of_a_sphere(6))"
      ],
      "metadata": {
        "id": "YbhKO6Cs09av",
        "colab": {
          "base_uri": "https://localhost:8080/"
        },
        "outputId": "6212b443-0183-44a4-ba82-9a07dc4e6f19"
      },
      "execution_count": 8,
      "outputs": [
        {
          "output_type": "stream",
          "name": "stdout",
          "text": [
            "Volume of a sphere with radius 6 is 904.7786687999999\n"
          ]
        }
      ]
    },
    {
      "cell_type": "markdown",
      "source": [
        "##Write a Python program to find whether a given number (accept from the user) is even or odd"
      ],
      "metadata": {
        "id": "OuX7aazu09X1"
      }
    },
    {
      "cell_type": "code",
      "source": [
        ""
      ],
      "metadata": {
        "id": "vcYhNNaU09Uz"
      },
      "execution_count": null,
      "outputs": []
    },
    {
      "cell_type": "markdown",
      "source": [
        "##Write a Python program to count the number 4 in a given list"
      ],
      "metadata": {
        "id": "NP5TZKqO09Rr"
      }
    },
    {
      "cell_type": "code",
      "source": [
        ""
      ],
      "metadata": {
        "id": "oWZ3vTfW09Oh"
      },
      "execution_count": null,
      "outputs": []
    },
    {
      "cell_type": "markdown",
      "source": [
        "##Write a Python program that will accept the base and height of a triangle and compute the area"
      ],
      "metadata": {
        "id": "IK0FvUoa1MJG"
      }
    },
    {
      "cell_type": "code",
      "source": [
        ""
      ],
      "metadata": {
        "id": "G02dv4rh1MFs"
      },
      "execution_count": null,
      "outputs": []
    },
    {
      "cell_type": "markdown",
      "source": [
        "##Write a Python program to convert the distance (in feet) to inches, yards, and miles."
      ],
      "metadata": {
        "id": "sOkeycZk1L5-"
      }
    },
    {
      "cell_type": "code",
      "source": [
        ""
      ],
      "metadata": {
        "id": "YtW-ZxqB1L2c"
      },
      "execution_count": null,
      "outputs": []
    }
  ]
}