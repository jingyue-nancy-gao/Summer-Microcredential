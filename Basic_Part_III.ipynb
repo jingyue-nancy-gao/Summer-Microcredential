{
  "nbformat": 4,
  "nbformat_minor": 0,
  "metadata": {
    "colab": {
      "name": "Basic Part III.ipynb",
      "provenance": [],
      "collapsed_sections": [
        "0B_3kW6fHPhJ",
        "IPpwHeymHR6U",
        "vkUf9yBGOkUz"
      ],
      "authorship_tag": "ABX9TyNDUdscVx2sRFswmdvKHwnF",
      "include_colab_link": true
    },
    "kernelspec": {
      "name": "python3",
      "display_name": "Python 3"
    },
    "language_info": {
      "name": "python"
    }
  },
  "cells": [
    {
      "cell_type": "markdown",
      "metadata": {
        "id": "view-in-github",
        "colab_type": "text"
      },
      "source": [
        "<a href=\"https://colab.research.google.com/github/jingyue-nancy-gao/Summer-Microcredential/blob/main/Basic_Part_III.ipynb\" target=\"_parent\"><img src=\"https://colab.research.google.com/assets/colab-badge.svg\" alt=\"Open In Colab\"/></a>"
      ]
    },
    {
      "cell_type": "markdown",
      "source": [
        "# Intro to python part III\n",
        "## Conditionals & Loops!!\n"
      ],
      "metadata": {
        "id": "7D44ZIgwG29U"
      }
    },
    {
      "cell_type": "markdown",
      "source": [
        "## Conditionals\n",
        "\n",
        "### IF...ELIF...ELSE Statements !!!"
      ],
      "metadata": {
        "id": "0B_3kW6fHPhJ"
      }
    },
    {
      "cell_type": "code",
      "source": [
        "\"\"\"\n",
        "if (consition):\n",
        "  do something\n",
        "\"\"\""
      ],
      "metadata": {
        "id": "aZeEryroHSI8"
      },
      "execution_count": null,
      "outputs": []
    },
    {
      "cell_type": "code",
      "source": [
        "if 3 > 2:\n",
        "  print(\"Right\")\n",
        "\n",
        "# In this line, I am using a condition function.\n",
        "# To use a condition function, I used the structure that [if (consition):  do something]\n",
        "# By conditioning it, I mean to get its bool value.\n",
        "# If 3 is greater than 2is [True], then print out \"Right\""
      ],
      "metadata": {
        "colab": {
          "base_uri": "https://localhost:8080/"
        },
        "id": "VaAlhLpPHSGE",
        "outputId": "24f5f07f-9120-41f4-e4bf-ba5e8dae21c9"
      },
      "execution_count": 1,
      "outputs": [
        {
          "output_type": "stream",
          "name": "stdout",
          "text": [
            "Right\n"
          ]
        }
      ]
    },
    {
      "cell_type": "code",
      "source": [
        "if 3 > 2:\n",
        "  print(\"Right\")"
      ],
      "metadata": {
        "id": "cgeGT217Hx7d"
      },
      "execution_count": null,
      "outputs": []
    },
    {
      "cell_type": "code",
      "source": [
        "if 4 > 7:\n",
        "  print(\"Right\")\n",
        "else:\n",
        "  print(\"Wrong\")\n",
        "\n",
        "# In this line, I am using a condition function.\n",
        "# To use a condition function, I used the structure that [if (consition):  do something][else: do something]]\n",
        "# By conditioning it, I mean to get its bool value.\n",
        "# If 4 is greater than 7 is [True], then print out \"Right\"\n",
        "# If 4 is greater than 7 is NOT [True], then print out \"Wrong\""
      ],
      "metadata": {
        "colab": {
          "base_uri": "https://localhost:8080/"
        },
        "id": "bHGha1E4HSD0",
        "outputId": "d2b03d53-7bf7-41d7-c4ba-9a073ec804a3"
      },
      "execution_count": 2,
      "outputs": [
        {
          "output_type": "stream",
          "name": "stdout",
          "text": [
            "Wrong\n"
          ]
        }
      ]
    },
    {
      "cell_type": "code",
      "source": [
        "a = 3\n",
        "b = 5\n",
        "\n",
        "if a > b:\n",
        "  print(\"Yes, it's right !!!\")\n",
        "else:\n",
        "  print(\"Try again !!!\")\n",
        "\n",
        "# In this line, I am using a condition function.\n",
        "# To use a condition function, I used the structure that [if (consition):  do something][else: do something]]\n",
        "# By conditioning it, I mean to get its bool value.\n",
        "# If a is greater than b is [True], then print out \"Yes, it's right !!!\"\n",
        "# If a is greater than b is NOT [True], then print out \"Try again !!!\""
      ],
      "metadata": {
        "colab": {
          "base_uri": "https://localhost:8080/"
        },
        "id": "j7uJP2EwHSBk",
        "outputId": "803180a5-75f5-46ae-bf00-a23d47bc8db4"
      },
      "execution_count": 3,
      "outputs": [
        {
          "output_type": "stream",
          "name": "stdout",
          "text": [
            "Try again !!!\n"
          ]
        }
      ]
    },
    {
      "cell_type": "code",
      "source": [
        "drink = \"Tea\"\n",
        "\n",
        "if drink == \"Coffee\":\n",
        "  print(\"Humanity runs on Coffee\")\n",
        "else:\n",
        "  print(\"Where there is a Tea, There is a hope !!!\")"
      ],
      "metadata": {
        "colab": {
          "base_uri": "https://localhost:8080/"
        },
        "id": "O-yGKkctHR_c",
        "outputId": "753a7433-77dc-498e-d5da-baa0b0d63c59"
      },
      "execution_count": 4,
      "outputs": [
        {
          "output_type": "stream",
          "name": "stdout",
          "text": [
            "Where there is a Tea, There is a hope !!!\n"
          ]
        }
      ]
    },
    {
      "cell_type": "code",
      "source": [
        "drink = \"Coke\"\n",
        "\n",
        "if drink == \"Coffee\":\n",
        "  print(\"Humanity runs on Coffee\")\n",
        "elif drink == \"Water\":\n",
        "  print(\"Water is the soul of Warth !!!\")\n",
        "elif drink == \"Coke\":\n",
        "  print(\"Coke is the new fuel for the Programmer !!!\")\n",
        "else:\n",
        "  print(\"Where there is a Tea, There is a hope !!!\")"
      ],
      "metadata": {
        "colab": {
          "base_uri": "https://localhost:8080/"
        },
        "id": "s0r5RHFbHR80",
        "outputId": "536ebcbf-065e-4ee5-f8dc-bff286466ffc"
      },
      "execution_count": 5,
      "outputs": [
        {
          "output_type": "stream",
          "name": "stdout",
          "text": [
            "Coke is the new fuel for the Programmer !!!\n"
          ]
        }
      ]
    },
    {
      "cell_type": "markdown",
      "source": [
        "## Loops !!\n",
        "\n",
        "### For .. Loop"
      ],
      "metadata": {
        "id": "IPpwHeymHR6U"
      }
    },
    {
      "cell_type": "code",
      "source": [
        "\"\"\"\n",
        "for interator in array:\n",
        "  do something\n",
        "\"\"\""
      ],
      "metadata": {
        "colab": {
          "base_uri": "https://localhost:8080/",
          "height": 36
        },
        "id": "jt500hmnLx2s",
        "outputId": "c8aac435-d00b-4660-d370-8ee450d8baf9"
      },
      "execution_count": 29,
      "outputs": [
        {
          "output_type": "execute_result",
          "data": {
            "text/plain": [
              "'\\nfor interator in array:\\n  do something\\n'"
            ],
            "application/vnd.google.colaboratory.intrinsic+json": {
              "type": "string"
            }
          },
          "metadata": {},
          "execution_count": 29
        }
      ]
    },
    {
      "cell_type": "code",
      "source": [
        "my_list = [1, 2, 3, 4, 5, 6, 7, 8, 9, 10]"
      ],
      "metadata": {
        "id": "o0oa-mL_HR3s"
      },
      "execution_count": 30,
      "outputs": []
    },
    {
      "cell_type": "code",
      "source": [
        "for num in my_list:\n",
        "  print(num)\n",
        "\n",
        "# In this line, I am using a for loop\n",
        "# To use a for loop, I used the structure that [for interator in array:  do something]\n",
        "# interator     ->  num\n",
        "# array         ->  my_list\n",
        "# do something  ->  print the interator  "
      ],
      "metadata": {
        "colab": {
          "base_uri": "https://localhost:8080/"
        },
        "id": "innz2SQBHRy8",
        "outputId": "0fc9e5d0-90a7-4181-9fdc-e7dfdbd3786c"
      },
      "execution_count": 31,
      "outputs": [
        {
          "output_type": "stream",
          "name": "stdout",
          "text": [
            "1\n",
            "2\n",
            "3\n",
            "4\n",
            "5\n",
            "6\n",
            "7\n",
            "8\n",
            "9\n",
            "10\n"
          ]
        }
      ]
    },
    {
      "cell_type": "code",
      "source": [
        "for i in my_list:\n",
        "  if i % 2 == 0:\n",
        "    print(i)\n",
        "\n",
        "# In this line, I am using a for loop\n",
        "# To use a for loop, I used the structure that [for interator in array:  do something]\n",
        "# interator     ->  i\n",
        "# array         ->  my_list\n",
        "# do something  ->  a condition function\n",
        "\n",
        "  # In this line, I am using a condition function.\n",
        "  # To use a condition function, I used the structure that [if (consition):  do something]\n",
        "  # By conditioning it, I mean to get its bool value.\n",
        "  # If [i divided by 2 is equal to 0] is [True], then print out the value of i\n"
      ],
      "metadata": {
        "colab": {
          "base_uri": "https://localhost:8080/"
        },
        "id": "ZJ9BU5P7HRv-",
        "outputId": "60037af5-3207-48d4-a096-2eac3e2a2767"
      },
      "execution_count": 32,
      "outputs": [
        {
          "output_type": "stream",
          "name": "stdout",
          "text": [
            "2\n",
            "4\n",
            "6\n",
            "8\n",
            "10\n"
          ]
        }
      ]
    },
    {
      "cell_type": "code",
      "source": [
        "for i in my_list:\n",
        "  if i % 2 != 0:\n",
        "    print(i)\n",
        "\n",
        "# In this line, I am using a for loop\n",
        "# To use a for loop, I used the structure that [for interator in array:  do something]\n",
        "# interator     ->  i\n",
        "# array         ->  my_list\n",
        "# do something  ->  a condition function\n",
        "\n",
        "  # In this line, I am using a condition function.\n",
        "  # To use a condition function, I used the structure that [if (consition):  do something]\n",
        "  # By conditioning it, I mean to get its bool value.\n",
        "  # If [i divided by 2 is equal to 0] is [False], then print out the value of i"
      ],
      "metadata": {
        "colab": {
          "base_uri": "https://localhost:8080/"
        },
        "id": "QdPh7AbYMkn_",
        "outputId": "a303411f-0449-472a-d5b1-626a0f5db60c"
      },
      "execution_count": 33,
      "outputs": [
        {
          "output_type": "stream",
          "name": "stdout",
          "text": [
            "1\n",
            "3\n",
            "5\n",
            "7\n",
            "9\n"
          ]
        }
      ]
    },
    {
      "cell_type": "code",
      "source": [
        "my_list = [1, 2, 3, 4, 5]\n",
        "list_sum = 0\n",
        "\n",
        "for num in my_list:\n",
        "  list_sum = list_sum + num\n",
        "\n",
        "print(list_sum)"
      ],
      "metadata": {
        "colab": {
          "base_uri": "https://localhost:8080/"
        },
        "id": "6sAo98pTMkln",
        "outputId": "fe028d34-4c95-46e4-c643-f678a84b9c3c"
      },
      "execution_count": 34,
      "outputs": [
        {
          "output_type": "stream",
          "name": "stdout",
          "text": [
            "15\n"
          ]
        }
      ]
    },
    {
      "cell_type": "code",
      "source": [
        "my_string = \"Hello World\"\n",
        "\n",
        "for letter in my_string:\n",
        "  print(letter)"
      ],
      "metadata": {
        "colab": {
          "base_uri": "https://localhost:8080/"
        },
        "id": "FwZ-GKJoMkjn",
        "outputId": "cf12fe48-3908-4a22-df55-1a804e21c4c6"
      },
      "execution_count": 35,
      "outputs": [
        {
          "output_type": "stream",
          "name": "stdout",
          "text": [
            "H\n",
            "e\n",
            "l\n",
            "l\n",
            "o\n",
            " \n",
            "W\n",
            "o\n",
            "r\n",
            "l\n",
            "d\n"
          ]
        }
      ]
    },
    {
      "cell_type": "code",
      "source": [
        "my_list = [(1,2), (3,4), (5,6), (7,8)]\n",
        "len(my_list)"
      ],
      "metadata": {
        "colab": {
          "base_uri": "https://localhost:8080/"
        },
        "id": "zdsKUhNkMkhY",
        "outputId": "5e0988a7-c974-4e31-ad13-92acde4b3dd6"
      },
      "execution_count": 36,
      "outputs": [
        {
          "output_type": "execute_result",
          "data": {
            "text/plain": [
              "4"
            ]
          },
          "metadata": {},
          "execution_count": 36
        }
      ]
    },
    {
      "cell_type": "code",
      "source": [
        "for tup in my_list:\n",
        "  print (tup)"
      ],
      "metadata": {
        "colab": {
          "base_uri": "https://localhost:8080/"
        },
        "id": "hRYc6zgBMkfT",
        "outputId": "9725be1f-be61-414d-a255-3cc52ed92ba5"
      },
      "execution_count": 37,
      "outputs": [
        {
          "output_type": "stream",
          "name": "stdout",
          "text": [
            "(1, 2)\n",
            "(3, 4)\n",
            "(5, 6)\n",
            "(7, 8)\n"
          ]
        }
      ]
    },
    {
      "cell_type": "code",
      "source": [
        "for a,b in my_list:\n",
        "  print(a,b)"
      ],
      "metadata": {
        "colab": {
          "base_uri": "https://localhost:8080/"
        },
        "id": "dFHDDcgTMkc_",
        "outputId": "71c3a9dc-3960-4f4b-ed84-e5e9b24a3018"
      },
      "execution_count": 38,
      "outputs": [
        {
          "output_type": "stream",
          "name": "stdout",
          "text": [
            "1 2\n",
            "3 4\n",
            "5 6\n",
            "7 8\n"
          ]
        }
      ]
    },
    {
      "cell_type": "code",
      "source": [
        "for a,b in my_list:\n",
        "  print(a)"
      ],
      "metadata": {
        "colab": {
          "base_uri": "https://localhost:8080/"
        },
        "id": "pMhtUZomMkav",
        "outputId": "3490a731-645d-44df-9d2e-4bfb4fb64de8"
      },
      "execution_count": 39,
      "outputs": [
        {
          "output_type": "stream",
          "name": "stdout",
          "text": [
            "1\n",
            "3\n",
            "5\n",
            "7\n"
          ]
        }
      ]
    },
    {
      "cell_type": "code",
      "source": [
        "my_list = [(1, 2, 3), (4, 5, 6), (7, 8, 9)]"
      ],
      "metadata": {
        "id": "0iFNSqU-MkX4"
      },
      "execution_count": 40,
      "outputs": []
    },
    {
      "cell_type": "code",
      "source": [
        "for a,b,c in my_list:\n",
        "  print(b,c)"
      ],
      "metadata": {
        "colab": {
          "base_uri": "https://localhost:8080/"
        },
        "id": "osg5r1M1Okic",
        "outputId": "c7af78dd-951f-4c28-bb8f-17c3f24b4e41"
      },
      "execution_count": 41,
      "outputs": [
        {
          "output_type": "stream",
          "name": "stdout",
          "text": [
            "2 3\n",
            "5 6\n",
            "8 9\n"
          ]
        }
      ]
    },
    {
      "cell_type": "code",
      "source": [
        "my_dict = {\"k1\":1, \"k2\":2, \"k3\": 3}"
      ],
      "metadata": {
        "id": "zt0vHlkQOkgM"
      },
      "execution_count": 42,
      "outputs": []
    },
    {
      "cell_type": "code",
      "source": [
        "for i in my_dict:\n",
        "  print(i)"
      ],
      "metadata": {
        "colab": {
          "base_uri": "https://localhost:8080/"
        },
        "id": "E8m38zAYOkeG",
        "outputId": "94f1b989-4ba5-4332-80d1-bafd5bd24a12"
      },
      "execution_count": 43,
      "outputs": [
        {
          "output_type": "stream",
          "name": "stdout",
          "text": [
            "k1\n",
            "k2\n",
            "k3\n"
          ]
        }
      ]
    },
    {
      "cell_type": "code",
      "source": [
        "for i in my_dict.items():\n",
        "  print(i)"
      ],
      "metadata": {
        "colab": {
          "base_uri": "https://localhost:8080/"
        },
        "id": "GRInFHhPOkbz",
        "outputId": "d864b939-3577-487d-c088-fa098e360e6a"
      },
      "execution_count": 44,
      "outputs": [
        {
          "output_type": "stream",
          "name": "stdout",
          "text": [
            "('k1', 1)\n",
            "('k2', 2)\n",
            "('k3', 3)\n"
          ]
        }
      ]
    },
    {
      "cell_type": "code",
      "source": [
        "for a,b in my_dict.items():\n",
        "  print(b)"
      ],
      "metadata": {
        "colab": {
          "base_uri": "https://localhost:8080/"
        },
        "id": "vcCOQhqnOkZa",
        "outputId": "d4c1e540-2677-4e79-c3ab-695b744f4038"
      },
      "execution_count": 45,
      "outputs": [
        {
          "output_type": "stream",
          "name": "stdout",
          "text": [
            "1\n",
            "2\n",
            "3\n"
          ]
        }
      ]
    },
    {
      "cell_type": "code",
      "source": [
        "# How to define a for loop\n",
        "# For loop with\n",
        "# List\n",
        "# String\n",
        "# Tuple\n",
        "# Dictionary"
      ],
      "metadata": {
        "id": "Dc9C5pemOkXD"
      },
      "execution_count": 46,
      "outputs": []
    },
    {
      "cell_type": "markdown",
      "source": [
        "## While Loops"
      ],
      "metadata": {
        "id": "vkUf9yBGOkUz"
      }
    },
    {
      "cell_type": "code",
      "source": [
        "i = 0\n",
        "\n",
        "while i < 5:\n",
        "  print (i)\n",
        "  i = i + 1"
      ],
      "metadata": {
        "colab": {
          "base_uri": "https://localhost:8080/"
        },
        "id": "8c6mOvL1PJMh",
        "outputId": "c9914d25-5ba2-457a-a318-feeadaf93a76"
      },
      "execution_count": 24,
      "outputs": [
        {
          "output_type": "stream",
          "name": "stdout",
          "text": [
            "0\n",
            "1\n",
            "2\n",
            "3\n",
            "4\n"
          ]
        }
      ]
    },
    {
      "cell_type": "code",
      "source": [
        "i = 0\n",
        "\n",
        "while i < 5:\n",
        "  print (i)\n",
        "  i = i + 1\n",
        "else:\n",
        "  print(\"i is not less than 5\")"
      ],
      "metadata": {
        "colab": {
          "base_uri": "https://localhost:8080/"
        },
        "id": "5V-7rkpvPJKa",
        "outputId": "7572fb28-acff-46fd-83e5-480905916b59"
      },
      "execution_count": 25,
      "outputs": [
        {
          "output_type": "stream",
          "name": "stdout",
          "text": [
            "0\n",
            "1\n",
            "2\n",
            "3\n",
            "4\n",
            "i is not less than 5\n"
          ]
        }
      ]
    },
    {
      "cell_type": "code",
      "source": [
        "i = 10\n",
        "\n",
        "while i < 5:\n",
        "  print (i)\n",
        "  i = i + 1\n",
        "else:\n",
        "  print(\"i is not less than 5\")"
      ],
      "metadata": {
        "colab": {
          "base_uri": "https://localhost:8080/"
        },
        "id": "RH4YjB6PPJH6",
        "outputId": "36502b6c-9da2-40e0-b81e-d107a2a30638"
      },
      "execution_count": 26,
      "outputs": [
        {
          "output_type": "stream",
          "name": "stdout",
          "text": [
            "i is not less than 5\n"
          ]
        }
      ]
    },
    {
      "cell_type": "markdown",
      "source": [
        "### Pass, Break, and Continue"
      ],
      "metadata": {
        "id": "rdMcS6rNPJFZ"
      }
    },
    {
      "cell_type": "code",
      "source": [
        "l = [1, 2, 3, 4, 5]\n",
        "\n",
        "for item in l:\n",
        "  # Coment\n",
        "  pass\n",
        "print(\"I will work after !!!\")"
      ],
      "metadata": {
        "colab": {
          "base_uri": "https://localhost:8080/"
        },
        "id": "HemQ0J05PJC8",
        "outputId": "0eeee8ae-a19a-43cc-834f-2fa73df0f8dd"
      },
      "execution_count": 28,
      "outputs": [
        {
          "output_type": "stream",
          "name": "stdout",
          "text": [
            "I will work after !!!\n"
          ]
        }
      ]
    },
    {
      "cell_type": "code",
      "source": [
        "my_string = \"Hello World\"\n",
        "\n",
        "for letter in my_string:\n",
        "  if letter == \"r\":\n",
        "    break\n",
        "  print(letter)"
      ],
      "metadata": {
        "colab": {
          "base_uri": "https://localhost:8080/"
        },
        "id": "d3BWRkBrPJAc",
        "outputId": "c3271055-84e0-4924-da18-c0240f81f7b3"
      },
      "execution_count": 49,
      "outputs": [
        {
          "output_type": "stream",
          "name": "stdout",
          "text": [
            "H\n",
            "e\n",
            "l\n",
            "l\n",
            "o\n",
            " \n",
            "W\n",
            "o\n"
          ]
        }
      ]
    },
    {
      "cell_type": "code",
      "source": [
        "my_string = \"Hello World\"\n",
        "\n",
        "for letter in my_string:\n",
        "  if letter == \"e\":\n",
        "    continue\n",
        "  print(letter)"
      ],
      "metadata": {
        "colab": {
          "base_uri": "https://localhost:8080/"
        },
        "id": "9gRQA1P8OkSM",
        "outputId": "97fbe3ad-a4e2-4b8c-bbe3-b19f8785b754"
      },
      "execution_count": 50,
      "outputs": [
        {
          "output_type": "stream",
          "name": "stdout",
          "text": [
            "H\n",
            "l\n",
            "l\n",
            "o\n",
            " \n",
            "W\n",
            "o\n",
            "r\n",
            "l\n",
            "d\n"
          ]
        }
      ]
    },
    {
      "cell_type": "code",
      "source": [
        "i = 0\n",
        "\n",
        "while i < 5:\n",
        "  if i == 3:\n",
        "    break\n",
        "  print (i)\n",
        "  i = i + 1\n"
      ],
      "metadata": {
        "colab": {
          "base_uri": "https://localhost:8080/"
        },
        "id": "-bqFnLZGR8W1",
        "outputId": "830ea9f1-d34c-4310-d6a2-f600b056fb4e"
      },
      "execution_count": 51,
      "outputs": [
        {
          "output_type": "stream",
          "name": "stdout",
          "text": [
            "0\n",
            "1\n",
            "2\n"
          ]
        }
      ]
    },
    {
      "cell_type": "markdown",
      "source": [
        "## Most Used Built-in Function in Python"
      ],
      "metadata": {
        "id": "pZVo1FjYUNG4"
      }
    },
    {
      "cell_type": "markdown",
      "source": [
        "### 1) Range function"
      ],
      "metadata": {
        "id": "9AV5-DSHUvyD"
      }
    },
    {
      "cell_type": "code",
      "source": [
        "for num in range(10):\n",
        "  print (num)"
      ],
      "metadata": {
        "colab": {
          "base_uri": "https://localhost:8080/"
        },
        "id": "_vHIxBOBUvs3",
        "outputId": "2295716e-9c6b-4158-aebb-6e0d43fe5ef1"
      },
      "execution_count": 52,
      "outputs": [
        {
          "output_type": "stream",
          "name": "stdout",
          "text": [
            "0\n",
            "1\n",
            "2\n",
            "3\n",
            "4\n",
            "5\n",
            "6\n",
            "7\n",
            "8\n",
            "9\n"
          ]
        }
      ]
    },
    {
      "cell_type": "code",
      "source": [
        "for num in range(3, 10):\n",
        "  print (num)"
      ],
      "metadata": {
        "colab": {
          "base_uri": "https://localhost:8080/"
        },
        "id": "I3GEGoj9Uvqn",
        "outputId": "09e104ee-991d-468f-e4af-95388e1a16b3"
      },
      "execution_count": 53,
      "outputs": [
        {
          "output_type": "stream",
          "name": "stdout",
          "text": [
            "3\n",
            "4\n",
            "5\n",
            "6\n",
            "7\n",
            "8\n",
            "9\n"
          ]
        }
      ]
    },
    {
      "cell_type": "code",
      "source": [
        "for num in range(0,11,2):\n",
        "  print (num)"
      ],
      "metadata": {
        "colab": {
          "base_uri": "https://localhost:8080/"
        },
        "id": "-zpiBafqUvoQ",
        "outputId": "b9a37080-74c3-435d-a18d-6afc6d9dbd37"
      },
      "execution_count": 54,
      "outputs": [
        {
          "output_type": "stream",
          "name": "stdout",
          "text": [
            "0\n",
            "2\n",
            "4\n",
            "6\n",
            "8\n",
            "10\n"
          ]
        }
      ]
    },
    {
      "cell_type": "code",
      "source": [
        "my_list = [1, 2, 3, 4, 5, 6, 7, 8, 9 ,10]\n",
        "range (10)\n",
        "list(range(10))\n",
        "list(range(1, 11))"
      ],
      "metadata": {
        "colab": {
          "base_uri": "https://localhost:8080/"
        },
        "id": "rO2dGd2hUvmC",
        "outputId": "9b2100c5-15a4-4e8a-a19a-1320d8382b91"
      },
      "execution_count": 55,
      "outputs": [
        {
          "output_type": "execute_result",
          "data": {
            "text/plain": [
              "[1, 2, 3, 4, 5, 6, 7, 8, 9, 10]"
            ]
          },
          "metadata": {},
          "execution_count": 55
        }
      ]
    },
    {
      "cell_type": "markdown",
      "source": [
        "### 2) Enumerate\n",
        "* it gives back us an index count and object itself"
      ],
      "metadata": {
        "id": "17nb27V4Uvja"
      }
    },
    {
      "cell_type": "code",
      "source": [
        "word = \"Batman\"\n",
        "\n",
        "for items in word:\n",
        "  print(items)"
      ],
      "metadata": {
        "colab": {
          "base_uri": "https://localhost:8080/"
        },
        "id": "A5D-2-APU1Cf",
        "outputId": "6b1579cf-cd8f-46b3-81e0-d414b2915883"
      },
      "execution_count": 56,
      "outputs": [
        {
          "output_type": "stream",
          "name": "stdout",
          "text": [
            "B\n",
            "a\n",
            "t\n",
            "m\n",
            "a\n",
            "n\n"
          ]
        }
      ]
    },
    {
      "cell_type": "code",
      "source": [
        "for items in enumerate(word):\n",
        "  print (items)"
      ],
      "metadata": {
        "colab": {
          "base_uri": "https://localhost:8080/"
        },
        "id": "MCSryVg-VoWg",
        "outputId": "c2e0e6dc-f6c6-4df2-b31a-dd3f355cea57"
      },
      "execution_count": 58,
      "outputs": [
        {
          "output_type": "stream",
          "name": "stdout",
          "text": [
            "(0, 'B')\n",
            "(1, 'a')\n",
            "(2, 't')\n",
            "(3, 'm')\n",
            "(4, 'a')\n",
            "(5, 'n')\n"
          ]
        }
      ]
    },
    {
      "cell_type": "code",
      "source": [
        "for a, b in enumerate(word):\n",
        "  print(a,b)"
      ],
      "metadata": {
        "colab": {
          "base_uri": "https://localhost:8080/"
        },
        "id": "snNTdZ4vVoUF",
        "outputId": "9c91da4a-fd9e-419f-dccd-342da0b077ce"
      },
      "execution_count": 59,
      "outputs": [
        {
          "output_type": "stream",
          "name": "stdout",
          "text": [
            "0 B\n",
            "1 a\n",
            "2 t\n",
            "3 m\n",
            "4 a\n",
            "5 n\n"
          ]
        }
      ]
    },
    {
      "cell_type": "code",
      "source": [
        "for a, b in enumerate(word):\n",
        "  print(a)\n",
        "  print(b)\n",
        "  print(\"\\n\")"
      ],
      "metadata": {
        "colab": {
          "base_uri": "https://localhost:8080/"
        },
        "id": "dhTafK2DVoRu",
        "outputId": "9c4e760b-c83c-47ad-bb7f-493a31f3ec1c"
      },
      "execution_count": 60,
      "outputs": [
        {
          "output_type": "stream",
          "name": "stdout",
          "text": [
            "0\n",
            "B\n",
            "\n",
            "\n",
            "1\n",
            "a\n",
            "\n",
            "\n",
            "2\n",
            "t\n",
            "\n",
            "\n",
            "3\n",
            "m\n",
            "\n",
            "\n",
            "4\n",
            "a\n",
            "\n",
            "\n",
            "5\n",
            "n\n",
            "\n",
            "\n"
          ]
        }
      ]
    },
    {
      "cell_type": "markdown",
      "source": [
        "### 3) Zip"
      ],
      "metadata": {
        "id": "kBLBYc0AVoPO"
      }
    },
    {
      "cell_type": "code",
      "source": [
        "list1 = [1,2,3,4,5]\n",
        "list2 = [\"a\", \"b\", \"c\", \"d\", \"e\"]\n",
        "list3 = [\"a\", \"b\", \"d\"]"
      ],
      "metadata": {
        "id": "1X_-Ss1gU1AQ"
      },
      "execution_count": 61,
      "outputs": []
    },
    {
      "cell_type": "code",
      "source": [
        "list4 = zip(list1, list2)"
      ],
      "metadata": {
        "id": "YhMXDnK1U093"
      },
      "execution_count": 62,
      "outputs": []
    },
    {
      "cell_type": "code",
      "source": [
        "print(list4)"
      ],
      "metadata": {
        "colab": {
          "base_uri": "https://localhost:8080/"
        },
        "id": "xEVXQEoZU07f",
        "outputId": "dab730e2-6ab3-4f30-ef9a-29592e2af1d1"
      },
      "execution_count": 63,
      "outputs": [
        {
          "output_type": "stream",
          "name": "stdout",
          "text": [
            "<zip object at 0x7f03577b0780>\n"
          ]
        }
      ]
    },
    {
      "cell_type": "code",
      "source": [
        "for items in zip(list1, list2):\n",
        "  print(items)"
      ],
      "metadata": {
        "colab": {
          "base_uri": "https://localhost:8080/"
        },
        "id": "FoxvU0H_U045",
        "outputId": "5a76a1bf-f2df-4df1-be6b-af502cddf6fa"
      },
      "execution_count": 66,
      "outputs": [
        {
          "output_type": "stream",
          "name": "stdout",
          "text": [
            "(1, 'a')\n",
            "(2, 'b')\n",
            "(3, 'c')\n",
            "(4, 'd')\n",
            "(5, 'e')\n"
          ]
        }
      ]
    },
    {
      "cell_type": "code",
      "source": [
        "for a,b in zip(list1, list2):\n",
        "  print(a,b)"
      ],
      "metadata": {
        "colab": {
          "base_uri": "https://localhost:8080/"
        },
        "id": "oVfwZo90WmIY",
        "outputId": "f9673786-c19d-4524-e98e-84c5525d23fc"
      },
      "execution_count": 67,
      "outputs": [
        {
          "output_type": "stream",
          "name": "stdout",
          "text": [
            "1 a\n",
            "2 b\n",
            "3 c\n",
            "4 d\n",
            "5 e\n"
          ]
        }
      ]
    },
    {
      "cell_type": "code",
      "source": [
        "for items in zip(list1, list2, list3):\n",
        "  print(items)"
      ],
      "metadata": {
        "colab": {
          "base_uri": "https://localhost:8080/"
        },
        "id": "60Nw0EUWWxbp",
        "outputId": "6eb46e71-cab9-480b-831e-2ea709f46d51"
      },
      "execution_count": 68,
      "outputs": [
        {
          "output_type": "stream",
          "name": "stdout",
          "text": [
            "(1, 'a', 'a')\n",
            "(2, 'b', 'b')\n",
            "(3, 'c', 'd')\n"
          ]
        }
      ]
    },
    {
      "cell_type": "code",
      "source": [
        "for a,b,c in zip(list1, list2, list3):\n",
        "  print(b)"
      ],
      "metadata": {
        "colab": {
          "base_uri": "https://localhost:8080/"
        },
        "id": "Y1jQO3VqW0GJ",
        "outputId": "b60468f4-d094-4dc0-acbc-8f771eda9da5"
      },
      "execution_count": 71,
      "outputs": [
        {
          "output_type": "stream",
          "name": "stdout",
          "text": [
            "a\n",
            "b\n",
            "c\n"
          ]
        }
      ]
    },
    {
      "cell_type": "code",
      "source": [
        ""
      ],
      "metadata": {
        "id": "tupdhCTzW0D_"
      },
      "execution_count": null,
      "outputs": []
    },
    {
      "cell_type": "code",
      "source": [
        ""
      ],
      "metadata": {
        "id": "vx6f7LjhW0B3"
      },
      "execution_count": null,
      "outputs": []
    },
    {
      "cell_type": "code",
      "source": [
        ""
      ],
      "metadata": {
        "id": "mZfH70SYWz_X"
      },
      "execution_count": null,
      "outputs": []
    },
    {
      "cell_type": "code",
      "source": [
        ""
      ],
      "metadata": {
        "id": "kwN6Fv6oWz9O"
      },
      "execution_count": null,
      "outputs": []
    },
    {
      "cell_type": "code",
      "source": [
        ""
      ],
      "metadata": {
        "id": "262xs6lOWz6o"
      },
      "execution_count": null,
      "outputs": []
    }
  ]
}