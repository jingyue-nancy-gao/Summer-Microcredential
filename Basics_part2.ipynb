{
  "nbformat": 4,
  "nbformat_minor": 0,
  "metadata": {
    "colab": {
      "name": "Basics part2.ipynb",
      "provenance": [],
      "collapsed_sections": [],
      "authorship_tag": "ABX9TyNoOQuJnI4528my6aFWKnCU",
      "include_colab_link": true
    },
    "kernelspec": {
      "name": "python3",
      "display_name": "Python 3"
    },
    "language_info": {
      "name": "python"
    }
  },
  "cells": [
    {
      "cell_type": "markdown",
      "metadata": {
        "id": "view-in-github",
        "colab_type": "text"
      },
      "source": [
        "<a href=\"https://colab.research.google.com/github/jingyue-nancy-gao/Summer-Microcredential/blob/main/Basics_part2.ipynb\" target=\"_parent\"><img src=\"https://colab.research.google.com/assets/colab-badge.svg\" alt=\"Open In Colab\"/></a>"
      ]
    },
    {
      "cell_type": "markdown",
      "source": [
        "# Intro to python part II\n",
        "## Data Structures"
      ],
      "metadata": {
        "id": "FeEFGNV9-nVv"
      }
    },
    {
      "cell_type": "markdown",
      "source": [
        "## Lists"
      ],
      "metadata": {
        "id": "h2JRK3Sf-yKS"
      }
    },
    {
      "cell_type": "code",
      "source": [
        "listEmpty =[]\n",
        "\n",
        "# In this line, I am defining an empty list.\n",
        "# To define a list, I created a variable name such as 'listEmpty' and then I assigned an empty set of squared brackets.\n",
        "# By assign I mean to simply use a single equal sign."
      ],
      "metadata": {
        "id": "OnNO4_U8BfNX"
      },
      "execution_count": 13,
      "outputs": []
    },
    {
      "cell_type": "code",
      "source": [
        "type(listEmpty)\n",
        "\n",
        "# In this line, I am checking the type of the 'listEmpty'\n",
        "# To check the type, I used function type()"
      ],
      "metadata": {
        "colab": {
          "base_uri": "https://localhost:8080/"
        },
        "id": "UcoGYijSBjCw",
        "outputId": "337cd59f-0edb-4e78-ad83-ad40ca398c80"
      },
      "execution_count": 14,
      "outputs": [
        {
          "output_type": "execute_result",
          "data": {
            "text/plain": [
              "list"
            ]
          },
          "metadata": {},
          "execution_count": 14
        }
      ]
    },
    {
      "cell_type": "code",
      "source": [
        "my_list = [\"Hello\", 100, 23.47]\n",
        "\n",
        "# In this line, I am defining an list.\n",
        "# To define a list, I created a variable name such as 'my_list' and then I assigned set \"Hello\", 100, 23.47 to it.\n",
        "# By assign I mean to simply use a single equal sign."
      ],
      "metadata": {
        "id": "s5daKPR3-yH0"
      },
      "execution_count": 4,
      "outputs": []
    },
    {
      "cell_type": "code",
      "source": [
        "print(my_list)\n",
        "\n",
        "# In this line, I am printing out the values of list variable 'my_list'\n",
        "# To print it out, I used function print()"
      ],
      "metadata": {
        "colab": {
          "base_uri": "https://localhost:8080/"
        },
        "id": "PuyYSx4M-x_K",
        "outputId": "19b3fb6c-c31c-4df3-9c9b-b86b626a0d0e"
      },
      "execution_count": 5,
      "outputs": [
        {
          "output_type": "stream",
          "name": "stdout",
          "text": [
            "['Hello', 100, 23.47]\n"
          ]
        }
      ]
    },
    {
      "cell_type": "code",
      "source": [
        "type(my_list)\n",
        "\n",
        "# In this line, I am checking the type of the 'my_list'\n",
        "# To check the type of the 'listEmpty', I used function type()"
      ],
      "metadata": {
        "colab": {
          "base_uri": "https://localhost:8080/"
        },
        "id": "IJdH4T7u-x80",
        "outputId": "e55559f6-3f60-47ce-dc15-058b3f1f19af"
      },
      "execution_count": 6,
      "outputs": [
        {
          "output_type": "execute_result",
          "data": {
            "text/plain": [
              "list"
            ]
          },
          "metadata": {},
          "execution_count": 6
        }
      ]
    },
    {
      "cell_type": "code",
      "source": [
        "second_list = [\"one\", \"two\", \"three\"]\n",
        "\n",
        "# In this line, I am defining an list.\n",
        "# To define a list, I created a variable name such as 'second_list' and then I assigned set \"one\", \"two\", \"three\" to it.\n",
        "# By assign I mean to simply use a single equal sign."
      ],
      "metadata": {
        "id": "I6LTqaLwAJKi"
      },
      "execution_count": 8,
      "outputs": []
    },
    {
      "cell_type": "code",
      "source": [
        "print (my_list, second_list)\n",
        "\n",
        "# In this line, I am printing out the values of list variable 'my_list' and 'second_list'\n",
        "# To print it out, I used function print()"
      ],
      "metadata": {
        "colab": {
          "base_uri": "https://localhost:8080/"
        },
        "id": "MI_O3KOwANMw",
        "outputId": "43db7ac2-77b5-4854-a6e3-700bb083da3f"
      },
      "execution_count": 9,
      "outputs": [
        {
          "output_type": "stream",
          "name": "stdout",
          "text": [
            "['Hello', 100, 23.47] ['one', 'two', 'three']\n"
          ]
        }
      ]
    },
    {
      "cell_type": "markdown",
      "source": [
        "###1) Concatenation "
      ],
      "metadata": {
        "id": "PYGErIjIAUWu"
      }
    },
    {
      "cell_type": "code",
      "source": [
        "new_list = my_list + second_list\n",
        "\n",
        "# In this line, I am defining a list.\n",
        "# To define a list, I created a variable name such as 'new_list' and then I assigned a set of \"my_list\" and set of \"second_list\" to it.\n",
        "# By assign I mean to simply use a single equal sign."
      ],
      "metadata": {
        "id": "5HG41dcBBUQO"
      },
      "execution_count": 10,
      "outputs": []
    },
    {
      "cell_type": "code",
      "source": [
        "type(new_list)\n",
        "\n",
        "# In this line, I am checking the type of the 'new_list'\n",
        "# To check the type, I used function type()"
      ],
      "metadata": {
        "colab": {
          "base_uri": "https://localhost:8080/"
        },
        "id": "Zu1yt9R_BZII",
        "outputId": "7dcc5566-0175-47c5-e5ab-0737097d7757"
      },
      "execution_count": 11,
      "outputs": [
        {
          "output_type": "execute_result",
          "data": {
            "text/plain": [
              "list"
            ]
          },
          "metadata": {},
          "execution_count": 11
        }
      ]
    },
    {
      "cell_type": "code",
      "source": [
        "print(new_list)\n",
        "\n",
        "# In this line, I am printing out the values of list variable 'new_list'\n",
        "# To print it out, I used function print()"
      ],
      "metadata": {
        "colab": {
          "base_uri": "https://localhost:8080/"
        },
        "id": "AN56S-bJBaz-",
        "outputId": "48fc22ff-8362-4754-c8df-dfbff9e6ddcf"
      },
      "execution_count": 12,
      "outputs": [
        {
          "output_type": "stream",
          "name": "stdout",
          "text": [
            "['Hello', 100, 23.47, 'one', 'two', 'three']\n"
          ]
        }
      ]
    },
    {
      "cell_type": "markdown",
      "source": [
        "### 2) Indexing in list "
      ],
      "metadata": {
        "id": "gylEG0w6Bd3a"
      }
    },
    {
      "cell_type": "code",
      "source": [
        "students = [\"Robert\", \"Chris\", \"Kataina\", \"Scarlett\"]\n",
        "\n",
        "# In this line, I am defining a list.\n",
        "# To define a list, I created a variable name 'students' and then I assigned a set of \"Robert\", \"Chris\", \"Kataina\", \"Scarlett\" to it\n",
        "# By assign I mean to simply use a single equal sign."
      ],
      "metadata": {
        "id": "-Tj3mWgzB2mP"
      },
      "execution_count": 15,
      "outputs": []
    },
    {
      "cell_type": "code",
      "source": [
        "students\n",
        "\n",
        "# In this line, I am checking out all the the values of list variable 'students'"
      ],
      "metadata": {
        "colab": {
          "base_uri": "https://localhost:8080/"
        },
        "id": "g5O_-5QkB9pU",
        "outputId": "a28e0452-cd98-4478-f06c-6c703de3702a"
      },
      "execution_count": 16,
      "outputs": [
        {
          "output_type": "execute_result",
          "data": {
            "text/plain": [
              "['Robert', 'Chris', 'Kataina', 'Scarlett']"
            ]
          },
          "metadata": {},
          "execution_count": 16
        }
      ]
    },
    {
      "cell_type": "code",
      "source": [
        "students[0]\n",
        "\n",
        "# In this line, I am checking out the first value of list variable 'students'\n",
        "# To check the first value of the list, I used students[0]."
      ],
      "metadata": {
        "colab": {
          "base_uri": "https://localhost:8080/",
          "height": 36
        },
        "id": "qjF2F7_JB-ua",
        "outputId": "435eed43-9cf8-4d16-b3a2-f388039298c6"
      },
      "execution_count": 17,
      "outputs": [
        {
          "output_type": "execute_result",
          "data": {
            "text/plain": [
              "'Robert'"
            ],
            "application/vnd.google.colaboratory.intrinsic+json": {
              "type": "string"
            }
          },
          "metadata": {},
          "execution_count": 17
        }
      ]
    },
    {
      "cell_type": "code",
      "source": [
        "string1 = \"this is a sting\"\n",
        "\n",
        "# In this line, I am defining a string.\n",
        "# To define a string, I created a variable name 'string1' and then I assigned \"this is a sting\" to it.\n",
        "# By assign I mean to simply use a single equal sign."
      ],
      "metadata": {
        "id": "S03P4-RACBLc"
      },
      "execution_count": 18,
      "outputs": []
    },
    {
      "cell_type": "code",
      "source": [
        "string1\n",
        "\n",
        "# In this line, I am checking out the values of string1"
      ],
      "metadata": {
        "colab": {
          "base_uri": "https://localhost:8080/",
          "height": 36
        },
        "id": "r8m9gu2NCjPF",
        "outputId": "cad1d4cc-f577-4d27-8566-5302cb9dbbd3"
      },
      "execution_count": 19,
      "outputs": [
        {
          "output_type": "execute_result",
          "data": {
            "text/plain": [
              "'this is a sting'"
            ],
            "application/vnd.google.colaboratory.intrinsic+json": {
              "type": "string"
            }
          },
          "metadata": {},
          "execution_count": 19
        }
      ]
    },
    {
      "cell_type": "code",
      "source": [
        "string1[2]\n",
        "\n",
        "# In this line, I am checking out the third char value of string variable 'string1'\n",
        "# To check the third value of the list, I used string1[2]."
      ],
      "metadata": {
        "colab": {
          "base_uri": "https://localhost:8080/",
          "height": 36
        },
        "id": "YwUNf6uXCl7y",
        "outputId": "dbcb8c19-41b3-43a6-c438-d2d234aabf3e"
      },
      "execution_count": 21,
      "outputs": [
        {
          "output_type": "execute_result",
          "data": {
            "text/plain": [
              "'i'"
            ],
            "application/vnd.google.colaboratory.intrinsic+json": {
              "type": "string"
            }
          },
          "metadata": {},
          "execution_count": 21
        }
      ]
    },
    {
      "cell_type": "markdown",
      "source": [
        "###3)Editing the list's"
      ],
      "metadata": {
        "id": "m4M8DWYbCnV0"
      }
    },
    {
      "cell_type": "code",
      "source": [
        "students\n",
        "\n",
        "# In this line, I am checking out all the the values of list variable 'students'"
      ],
      "metadata": {
        "colab": {
          "base_uri": "https://localhost:8080/"
        },
        "id": "-OZZVbA9CwAN",
        "outputId": "ecc279f0-21e9-44df-e1e8-408633c22cf2"
      },
      "execution_count": 23,
      "outputs": [
        {
          "output_type": "execute_result",
          "data": {
            "text/plain": [
              "['Robert', 'Chris', 'Kataina', 'Scarlett']"
            ]
          },
          "metadata": {},
          "execution_count": 23
        }
      ]
    },
    {
      "cell_type": "code",
      "source": [
        "# Replace values\n",
        "students[0] = \"Sam\"\n",
        "\n",
        "# In this line, I am replacing values of the first element in list variable 'students'\n",
        "# To replace values, I assigned \"Sam\" to the first element in list variable 'students'\n",
        "# By assign I mean to simply use a single equal sign."
      ],
      "metadata": {
        "id": "PM_Hd6cZCtND"
      },
      "execution_count": 25,
      "outputs": []
    },
    {
      "cell_type": "code",
      "source": [
        "students\n",
        "\n",
        "# In this line, I am checking out all the the values of list variable 'students'"
      ],
      "metadata": {
        "colab": {
          "base_uri": "https://localhost:8080/"
        },
        "id": "2p_f_JC_CvTF",
        "outputId": "d76a1a1d-fa1b-4a76-8e8e-ad55aaf5600f"
      },
      "execution_count": 26,
      "outputs": [
        {
          "output_type": "execute_result",
          "data": {
            "text/plain": [
              "['Sam', 'Chris', 'Kataina', 'Scarlett']"
            ]
          },
          "metadata": {},
          "execution_count": 26
        }
      ]
    },
    {
      "cell_type": "code",
      "source": [
        "# Add values\n",
        "students.append (\"Paul\")\n",
        "students\n",
        "\n",
        "# In this line, I am adding values to the list variable 'students'\n",
        "# To add values, I used function .append() and added \"Paul\" to the last element in list variable 'students'\n",
        "\n",
        "# Then, I am checking out all the the values of list variable 'students'"
      ],
      "metadata": {
        "colab": {
          "base_uri": "https://localhost:8080/"
        },
        "id": "AAvxnZ2LC4BX",
        "outputId": "834a29c2-01f3-4241-e698-12945fb2034f"
      },
      "execution_count": 28,
      "outputs": [
        {
          "output_type": "execute_result",
          "data": {
            "text/plain": [
              "['Sam', 'Chris', 'Kataina', 'Scarlett', 'Paul']"
            ]
          },
          "metadata": {},
          "execution_count": 28
        }
      ]
    },
    {
      "cell_type": "code",
      "source": [
        "students.remove(\"Scarlett\")\n",
        "\n",
        "# In this line, I am moving values to the list variable 'students'\n",
        "# To move values, I used function .remove() and targeted \"Scarlett\" to remove in list variable 'students'\n",
        "\n",
        "# Then, I am checking out all the the values of list variable 'students'"
      ],
      "metadata": {
        "id": "csrizPjnDG0N"
      },
      "execution_count": 29,
      "outputs": []
    },
    {
      "cell_type": "code",
      "source": [
        "students\n",
        "\n",
        "# In this line, I am checking out all the the values of list variable 'students'"
      ],
      "metadata": {
        "colab": {
          "base_uri": "https://localhost:8080/"
        },
        "id": "mqvE4n-fDias",
        "outputId": "95e1b7b4-c736-4440-bc46-ea4e4dda6857"
      },
      "execution_count": 30,
      "outputs": [
        {
          "output_type": "execute_result",
          "data": {
            "text/plain": [
              "['Sam', 'Chris', 'Kataina', 'Paul']"
            ]
          },
          "metadata": {},
          "execution_count": 30
        }
      ]
    },
    {
      "cell_type": "code",
      "source": [
        "list1 = [\"one\", \"two\", \"three\", \"four\", \"five\"]\n",
        "\n",
        "# In this line, I am defining a list.\n",
        "# To define a list, I created a variable name 'list1' and then I assigned a set of \"one\", \"two\", \"three\", \"four\", \"five\" to it\n",
        "# By assign I mean to simply use a single equal sign."
      ],
      "metadata": {
        "id": "aHMbZxC6DjOb"
      },
      "execution_count": 32,
      "outputs": []
    },
    {
      "cell_type": "code",
      "source": [
        "list1.pop(2)\n",
        "\n",
        "# In this line, I am popping values from the list variable 'list1'\n",
        "# To pop values, I used function .pop() and targeted the third element to pop from list variable 'list1'"
      ],
      "metadata": {
        "colab": {
          "base_uri": "https://localhost:8080/",
          "height": 36
        },
        "id": "iWz1wo-ADplJ",
        "outputId": "e0f24d30-8592-412d-be19-7b8399d55a73"
      },
      "execution_count": 34,
      "outputs": [
        {
          "output_type": "execute_result",
          "data": {
            "text/plain": [
              "'three'"
            ],
            "application/vnd.google.colaboratory.intrinsic+json": {
              "type": "string"
            }
          },
          "metadata": {},
          "execution_count": 34
        }
      ]
    },
    {
      "cell_type": "code",
      "source": [
        "list1\n",
        "\n",
        "# In this line, I am checking out all the the values of list variable 'list1'"
      ],
      "metadata": {
        "colab": {
          "base_uri": "https://localhost:8080/"
        },
        "id": "oaBSthrtDuRY",
        "outputId": "622ead92-44f8-4ff7-907b-375f088271d6"
      },
      "execution_count": 35,
      "outputs": [
        {
          "output_type": "execute_result",
          "data": {
            "text/plain": [
              "['one', 'two', 'four', 'five']"
            ]
          },
          "metadata": {},
          "execution_count": 35
        }
      ]
    },
    {
      "cell_type": "markdown",
      "source": [
        "### 4) Add list into list"
      ],
      "metadata": {
        "id": "Lar7elezDwjY"
      }
    },
    {
      "cell_type": "code",
      "source": [
        "color = [\"Red\", \"Green\", \"Blue\", \"violet\"]"
      ],
      "metadata": {
        "id": "1ecIGOSED8i6"
      },
      "execution_count": 36,
      "outputs": []
    },
    {
      "cell_type": "code",
      "source": [
        "color"
      ],
      "metadata": {
        "colab": {
          "base_uri": "https://localhost:8080/"
        },
        "id": "Yq_inmo8EB7N",
        "outputId": "ce4cd2a0-1989-4668-f533-bd9c10455222"
      },
      "execution_count": 37,
      "outputs": [
        {
          "output_type": "execute_result",
          "data": {
            "text/plain": [
              "['Red', 'Green', 'Blue', 'violet']"
            ]
          },
          "metadata": {},
          "execution_count": 37
        }
      ]
    },
    {
      "cell_type": "code",
      "source": [
        "age = [21, 23, 25, 27]"
      ],
      "metadata": {
        "id": "aLyD5xBDECss"
      },
      "execution_count": 38,
      "outputs": []
    },
    {
      "cell_type": "code",
      "source": [
        "age"
      ],
      "metadata": {
        "colab": {
          "base_uri": "https://localhost:8080/"
        },
        "id": "nBGlqGDSEG8E",
        "outputId": "012b3984-e62d-4467-ccf7-50de740aac5d"
      },
      "execution_count": 39,
      "outputs": [
        {
          "output_type": "execute_result",
          "data": {
            "text/plain": [
              "[21, 23, 25, 27]"
            ]
          },
          "metadata": {},
          "execution_count": 39
        }
      ]
    },
    {
      "cell_type": "code",
      "source": [
        "color.extend(age)"
      ],
      "metadata": {
        "id": "YC_pSVTtEHjc"
      },
      "execution_count": 40,
      "outputs": []
    },
    {
      "cell_type": "code",
      "source": [
        "color"
      ],
      "metadata": {
        "colab": {
          "base_uri": "https://localhost:8080/"
        },
        "id": "PmeRjG5IEJOl",
        "outputId": "97897f7a-e4a0-4208-8d92-64bd5b5a37c5"
      },
      "execution_count": 41,
      "outputs": [
        {
          "output_type": "execute_result",
          "data": {
            "text/plain": [
              "['Red', 'Green', 'Blue', 'violet', 21, 23, 25, 27]"
            ]
          },
          "metadata": {},
          "execution_count": 41
        }
      ]
    },
    {
      "cell_type": "markdown",
      "source": [
        "## 5)Python in-build functions with the list's"
      ],
      "metadata": {
        "id": "lOFt2PMsEKQ-"
      }
    },
    {
      "cell_type": "code",
      "source": [
        "even = [2, 4, 6, 8]\n",
        "odd = [1, 3, 5, 7, 9]"
      ],
      "metadata": {
        "id": "P437T3WvEsDi"
      },
      "execution_count": 42,
      "outputs": []
    },
    {
      "cell_type": "code",
      "source": [
        "numbers = even + odd"
      ],
      "metadata": {
        "id": "-fnEHdagE9J-"
      },
      "execution_count": 43,
      "outputs": []
    },
    {
      "cell_type": "code",
      "source": [
        "numbers"
      ],
      "metadata": {
        "colab": {
          "base_uri": "https://localhost:8080/"
        },
        "id": "OyrSCV4xE-1h",
        "outputId": "05d0f0af-eb13-4f45-99b4-d4ecff86722c"
      },
      "execution_count": 44,
      "outputs": [
        {
          "output_type": "execute_result",
          "data": {
            "text/plain": [
              "[2, 4, 6, 8, 1, 3, 5, 7, 9]"
            ]
          },
          "metadata": {},
          "execution_count": 44
        }
      ]
    },
    {
      "cell_type": "code",
      "source": [
        "print(sorted (numbers))"
      ],
      "metadata": {
        "colab": {
          "base_uri": "https://localhost:8080/"
        },
        "id": "dxyOxE1RE_7I",
        "outputId": "6cd871a8-f8c7-4bfd-8152-78dcc2c6ae14"
      },
      "execution_count": 45,
      "outputs": [
        {
          "output_type": "stream",
          "name": "stdout",
          "text": [
            "[1, 2, 3, 4, 5, 6, 7, 8, 9]\n"
          ]
        }
      ]
    },
    {
      "cell_type": "code",
      "source": [
        "len(numbers)"
      ],
      "metadata": {
        "colab": {
          "base_uri": "https://localhost:8080/"
        },
        "id": "DILEamJAFEe8",
        "outputId": "48611562-194a-49f6-9bbe-3778b72b1d3d"
      },
      "execution_count": 46,
      "outputs": [
        {
          "output_type": "execute_result",
          "data": {
            "text/plain": [
              "9"
            ]
          },
          "metadata": {},
          "execution_count": 46
        }
      ]
    },
    {
      "cell_type": "code",
      "source": [
        "max(numbers)"
      ],
      "metadata": {
        "colab": {
          "base_uri": "https://localhost:8080/"
        },
        "id": "owqLgIwiFir_",
        "outputId": "d18cde76-4ad5-4371-fa9a-e5bee807f2e2"
      },
      "execution_count": 47,
      "outputs": [
        {
          "output_type": "execute_result",
          "data": {
            "text/plain": [
              "9"
            ]
          },
          "metadata": {},
          "execution_count": 47
        }
      ]
    },
    {
      "cell_type": "code",
      "source": [
        "min(numbers)"
      ],
      "metadata": {
        "colab": {
          "base_uri": "https://localhost:8080/"
        },
        "id": "-QBpZKW_Fk_3",
        "outputId": "2fa21d24-edff-45f0-d5cf-ded57a3cc51b"
      },
      "execution_count": 48,
      "outputs": [
        {
          "output_type": "execute_result",
          "data": {
            "text/plain": [
              "1"
            ]
          },
          "metadata": {},
          "execution_count": 48
        }
      ]
    },
    {
      "cell_type": "markdown",
      "source": [
        "#### 1)concatenation\n",
        "#### 2)Indexing in list\n",
        "#### 3)Editing the list\n",
        "#### 4)Add list into list\n",
        "#### 5)Python in-build functions with the list's"
      ],
      "metadata": {
        "id": "IRmAfAgiFnDH"
      }
    },
    {
      "cell_type": "markdown",
      "source": [
        "Dictionaries"
      ],
      "metadata": {
        "id": "V5vyVSMKF57w"
      }
    },
    {
      "cell_type": "code",
      "source": [
        "my_dict = {\"key1\":\"value1\", \"key2\":\"value2\"}\n",
        "my_dict"
      ],
      "metadata": {
        "colab": {
          "base_uri": "https://localhost:8080/"
        },
        "id": "aw-ANzNxsgr8",
        "outputId": "e1ed6e20-921e-46b8-c738-d8ef787bf482"
      },
      "execution_count": 1,
      "outputs": [
        {
          "output_type": "execute_result",
          "data": {
            "text/plain": [
              "{'key1': 'value1', 'key2': 'value2'}"
            ]
          },
          "metadata": {},
          "execution_count": 1
        }
      ]
    },
    {
      "cell_type": "code",
      "source": [
        "my_dict[\"key1\"]"
      ],
      "metadata": {
        "colab": {
          "base_uri": "https://localhost:8080/",
          "height": 36
        },
        "id": "PcVvUUzUtQ3H",
        "outputId": "21536ced-064f-4705-94e8-e8041cfad269"
      },
      "execution_count": 2,
      "outputs": [
        {
          "output_type": "execute_result",
          "data": {
            "text/plain": [
              "'value1'"
            ],
            "application/vnd.google.colaboratory.intrinsic+json": {
              "type": "string"
            }
          },
          "metadata": {},
          "execution_count": 2
        }
      ]
    },
    {
      "cell_type": "code",
      "source": [
        "fruits = {\"Apple\":3, \"Banana\":1.75, \"Cherry\":2}\n",
        "fruits\n",
        "fruits[\"Apple\"]"
      ],
      "metadata": {
        "colab": {
          "base_uri": "https://localhost:8080/"
        },
        "id": "KPHy1omdtSvI",
        "outputId": "86b6bd58-7082-4859-f577-72c43f906195"
      },
      "execution_count": 8,
      "outputs": [
        {
          "output_type": "execute_result",
          "data": {
            "text/plain": [
              "3"
            ]
          },
          "metadata": {},
          "execution_count": 8
        }
      ]
    },
    {
      "cell_type": "markdown",
      "source": [
        "# 2) Dictionaries with all data type's"
      ],
      "metadata": {
        "id": "6GOvwljjtY0K"
      }
    },
    {
      "cell_type": "code",
      "source": [
        "new_dict = {\"k1\":147, \"k2\": [15,25,35], \"k3\": {\"Apple\":3}}"
      ],
      "metadata": {
        "id": "4KuSRW5Gt0YI"
      },
      "execution_count": 11,
      "outputs": []
    },
    {
      "cell_type": "code",
      "source": [
        "new_dict"
      ],
      "metadata": {
        "colab": {
          "base_uri": "https://localhost:8080/"
        },
        "id": "g8DCiuk1uAz8",
        "outputId": "99093169-38dc-4664-953d-de93b540a1f0"
      },
      "execution_count": 12,
      "outputs": [
        {
          "output_type": "execute_result",
          "data": {
            "text/plain": [
              "{'k1': 147, 'k2': [15, 25, 35], 'k3': {'Apple': 3}}"
            ]
          },
          "metadata": {},
          "execution_count": 12
        }
      ]
    },
    {
      "cell_type": "code",
      "source": [
        "new_dict[\"k2\"]"
      ],
      "metadata": {
        "colab": {
          "base_uri": "https://localhost:8080/"
        },
        "id": "Ab3azV78uCQ3",
        "outputId": "8597ea35-0eda-403a-c4b4-244b267b533e"
      },
      "execution_count": 13,
      "outputs": [
        {
          "output_type": "execute_result",
          "data": {
            "text/plain": [
              "[15, 25, 35]"
            ]
          },
          "metadata": {},
          "execution_count": 13
        }
      ]
    },
    {
      "cell_type": "code",
      "source": [
        "new_dict[\"k2\"][1]"
      ],
      "metadata": {
        "colab": {
          "base_uri": "https://localhost:8080/"
        },
        "id": "W9rYJWUGuJHW",
        "outputId": "b05d9712-bd3d-4ee3-c1e9-26ebe2681be4"
      },
      "execution_count": 14,
      "outputs": [
        {
          "output_type": "execute_result",
          "data": {
            "text/plain": [
              "25"
            ]
          },
          "metadata": {},
          "execution_count": 14
        }
      ]
    },
    {
      "cell_type": "code",
      "source": [
        "new_dict[\"k3\"]"
      ],
      "metadata": {
        "colab": {
          "base_uri": "https://localhost:8080/"
        },
        "id": "dEWYwg-PuLsz",
        "outputId": "0b4808a4-a6e3-4f77-c511-ca1ddb05bc0c"
      },
      "execution_count": 16,
      "outputs": [
        {
          "output_type": "execute_result",
          "data": {
            "text/plain": [
              "{'Apple': 3}"
            ]
          },
          "metadata": {},
          "execution_count": 16
        }
      ]
    },
    {
      "cell_type": "code",
      "source": [
        "new_dict[\"k3\"][\"Apple\"]"
      ],
      "metadata": {
        "colab": {
          "base_uri": "https://localhost:8080/"
        },
        "id": "_7gSC95RuOM5",
        "outputId": "40482a91-6e0e-431d-ea30-5d5bca6f1a55"
      },
      "execution_count": 17,
      "outputs": [
        {
          "output_type": "execute_result",
          "data": {
            "text/plain": [
              "3"
            ]
          },
          "metadata": {},
          "execution_count": 17
        }
      ]
    },
    {
      "cell_type": "code",
      "source": [
        "d = {\"students\": [ \"a\", \"b\",\"c\",\"d\"]}"
      ],
      "metadata": {
        "id": "pKtfgFxKuTII"
      },
      "execution_count": 18,
      "outputs": []
    },
    {
      "cell_type": "code",
      "source": [
        "d"
      ],
      "metadata": {
        "colab": {
          "base_uri": "https://localhost:8080/"
        },
        "id": "vpQwvnmuuaDR",
        "outputId": "5e36ff5b-7496-4d69-dc0b-623d0ffcfac9"
      },
      "execution_count": 19,
      "outputs": [
        {
          "output_type": "execute_result",
          "data": {
            "text/plain": [
              "{'students': ['a', 'b', 'c', 'd']}"
            ]
          },
          "metadata": {},
          "execution_count": 19
        }
      ]
    },
    {
      "cell_type": "code",
      "source": [
        "d[\"students\"][1]"
      ],
      "metadata": {
        "colab": {
          "base_uri": "https://localhost:8080/",
          "height": 36
        },
        "id": "nYahit-ouamq",
        "outputId": "00b77ca8-591c-4364-a0fd-f917ba07fe97"
      },
      "execution_count": 21,
      "outputs": [
        {
          "output_type": "execute_result",
          "data": {
            "text/plain": [
              "'b'"
            ],
            "application/vnd.google.colaboratory.intrinsic+json": {
              "type": "string"
            }
          },
          "metadata": {},
          "execution_count": 21
        }
      ]
    },
    {
      "cell_type": "code",
      "source": [
        "d[\"students\"][-1].upper()"
      ],
      "metadata": {
        "colab": {
          "base_uri": "https://localhost:8080/",
          "height": 36
        },
        "id": "QhBrKUHkuftX",
        "outputId": "38d962e6-1e6f-482f-deda-1f094c909f2b"
      },
      "execution_count": 23,
      "outputs": [
        {
          "output_type": "execute_result",
          "data": {
            "text/plain": [
              "'D'"
            ],
            "application/vnd.google.colaboratory.intrinsic+json": {
              "type": "string"
            }
          },
          "metadata": {},
          "execution_count": 23
        }
      ]
    },
    {
      "cell_type": "markdown",
      "source": [
        "#3) Add value"
      ],
      "metadata": {
        "id": "wKf9lE2cvPQC"
      }
    },
    {
      "cell_type": "code",
      "source": [
        "d = {\"k1\":100, \"k2\":200}"
      ],
      "metadata": {
        "id": "3gV6worWv078"
      },
      "execution_count": 25,
      "outputs": []
    },
    {
      "cell_type": "code",
      "source": [
        "d['k1']"
      ],
      "metadata": {
        "colab": {
          "base_uri": "https://localhost:8080/"
        },
        "id": "ilQ50UUKv-gc",
        "outputId": "4d8038c2-af19-4271-f22c-76232c97c43d"
      },
      "execution_count": 26,
      "outputs": [
        {
          "output_type": "execute_result",
          "data": {
            "text/plain": [
              "100"
            ]
          },
          "metadata": {},
          "execution_count": 26
        }
      ]
    },
    {
      "cell_type": "code",
      "source": [
        "d['k3']=300"
      ],
      "metadata": {
        "id": "loBmkYlov_-N"
      },
      "execution_count": 27,
      "outputs": []
    },
    {
      "cell_type": "code",
      "source": [
        "d"
      ],
      "metadata": {
        "colab": {
          "base_uri": "https://localhost:8080/"
        },
        "id": "ztQMDYVTwB_v",
        "outputId": "ebc1bd3b-bdf8-4c7d-e952-3533ecb17726"
      },
      "execution_count": 29,
      "outputs": [
        {
          "output_type": "execute_result",
          "data": {
            "text/plain": [
              "{'k1': 100, 'k2': 200, 'k3': 300}"
            ]
          },
          "metadata": {},
          "execution_count": 29
        }
      ]
    },
    {
      "cell_type": "markdown",
      "source": [
        "# 4) Replace value"
      ],
      "metadata": {
        "id": "IQ_YGprVwC6y"
      }
    },
    {
      "cell_type": "code",
      "source": [
        "d"
      ],
      "metadata": {
        "colab": {
          "base_uri": "https://localhost:8080/"
        },
        "id": "JMGBF_OTwIUI",
        "outputId": "edec212f-fbed-48fe-e1e0-9510af399d67"
      },
      "execution_count": 30,
      "outputs": [
        {
          "output_type": "execute_result",
          "data": {
            "text/plain": [
              "{'k1': 100, 'k2': 200, 'k3': 300}"
            ]
          },
          "metadata": {},
          "execution_count": 30
        }
      ]
    },
    {
      "cell_type": "code",
      "source": [
        "d['k1']=\"New value\""
      ],
      "metadata": {
        "id": "8XZCfGLuwJbF"
      },
      "execution_count": 32,
      "outputs": []
    },
    {
      "cell_type": "code",
      "source": [
        "d"
      ],
      "metadata": {
        "colab": {
          "base_uri": "https://localhost:8080/"
        },
        "id": "Bs8xQU6MwS5J",
        "outputId": "66f7664e-5d19-4945-fbc2-f1ff72bf3c7d"
      },
      "execution_count": 33,
      "outputs": [
        {
          "output_type": "execute_result",
          "data": {
            "text/plain": [
              "{'k1': 'New value', 'k2': 200, 'k3': 300}"
            ]
          },
          "metadata": {},
          "execution_count": 33
        }
      ]
    },
    {
      "cell_type": "code",
      "source": [
        "d.keys()"
      ],
      "metadata": {
        "colab": {
          "base_uri": "https://localhost:8080/"
        },
        "id": "adDNwGXWwcz0",
        "outputId": "3d491c60-abcb-4821-c738-bb910ffe643d"
      },
      "execution_count": 34,
      "outputs": [
        {
          "output_type": "execute_result",
          "data": {
            "text/plain": [
              "dict_keys(['k1', 'k2', 'k3'])"
            ]
          },
          "metadata": {},
          "execution_count": 34
        }
      ]
    },
    {
      "cell_type": "code",
      "source": [
        "d.values()"
      ],
      "metadata": {
        "colab": {
          "base_uri": "https://localhost:8080/"
        },
        "id": "uMQm4oPrwdzl",
        "outputId": "74ca6ed1-bf03-41aa-dc00-a00a93062790"
      },
      "execution_count": 36,
      "outputs": [
        {
          "output_type": "execute_result",
          "data": {
            "text/plain": [
              "dict_values(['New value', 200, 300])"
            ]
          },
          "metadata": {},
          "execution_count": 36
        }
      ]
    },
    {
      "cell_type": "code",
      "source": [
        "d.items()"
      ],
      "metadata": {
        "colab": {
          "base_uri": "https://localhost:8080/"
        },
        "id": "28VPtsiwwfMo",
        "outputId": "17fa6cd1-07fa-471f-b797-df330697e967"
      },
      "execution_count": 37,
      "outputs": [
        {
          "output_type": "execute_result",
          "data": {
            "text/plain": [
              "dict_items([('k1', 'New value'), ('k2', 200), ('k3', 300)])"
            ]
          },
          "metadata": {},
          "execution_count": 37
        }
      ]
    },
    {
      "cell_type": "code",
      "source": [
        "# 1)Define a Dictionary\n",
        "# 2)"
      ],
      "metadata": {
        "id": "Nbpjq0jewi1F"
      },
      "execution_count": null,
      "outputs": []
    },
    {
      "cell_type": "markdown",
      "source": [
        "## Tuples"
      ],
      "metadata": {
        "id": "gUUoSlTjAsKC"
      }
    },
    {
      "cell_type": "code",
      "source": [
        "prime_number = (2,3,5,7,11)\n",
        "type(prime_number)"
      ],
      "metadata": {
        "colab": {
          "base_uri": "https://localhost:8080/"
        },
        "id": "d1bnfdy7Av_q",
        "outputId": "dbf86614-7d5f-40f3-8562-2a6f3b3f2922"
      },
      "execution_count": 39,
      "outputs": [
        {
          "output_type": "execute_result",
          "data": {
            "text/plain": [
              "tuple"
            ]
          },
          "metadata": {},
          "execution_count": 39
        }
      ]
    },
    {
      "cell_type": "code",
      "source": [
        "perfect_squares = [1,4,9,16,25,36,49,64,81,100,121]\n",
        "type(perfect_squares)"
      ],
      "metadata": {
        "colab": {
          "base_uri": "https://localhost:8080/"
        },
        "id": "wWq9qNieBGec",
        "outputId": "d06cd6f5-5c76-4eca-b97a-2061be3b46bc"
      },
      "execution_count": 54,
      "outputs": [
        {
          "output_type": "execute_result",
          "data": {
            "text/plain": [
              "list"
            ]
          },
          "metadata": {},
          "execution_count": 54
        }
      ]
    },
    {
      "cell_type": "code",
      "source": [
        "len(prime_number)"
      ],
      "metadata": {
        "colab": {
          "base_uri": "https://localhost:8080/"
        },
        "id": "bkTEu0G5BYk_",
        "outputId": "35ee5057-5219-4d8c-9809-9414a3eb230a"
      },
      "execution_count": 42,
      "outputs": [
        {
          "output_type": "execute_result",
          "data": {
            "text/plain": [
              "5"
            ]
          },
          "metadata": {},
          "execution_count": 42
        }
      ]
    },
    {
      "cell_type": "code",
      "source": [
        "len(perfect_squares)"
      ],
      "metadata": {
        "colab": {
          "base_uri": "https://localhost:8080/"
        },
        "id": "6fHwj-1QBkAa",
        "outputId": "59c60350-4c3c-46de-b528-96e2fb47fdde"
      },
      "execution_count": 43,
      "outputs": [
        {
          "output_type": "execute_result",
          "data": {
            "text/plain": [
              "6"
            ]
          },
          "metadata": {},
          "execution_count": 43
        }
      ]
    },
    {
      "cell_type": "code",
      "source": [
        "my_tuple = (\"Hieee\", 100, 100, 12.47)\n",
        "my_tuple"
      ],
      "metadata": {
        "colab": {
          "base_uri": "https://localhost:8080/"
        },
        "id": "HtSMYEVbB9t0",
        "outputId": "46f04a98-fbf5-45e4-91ea-6565d9b21ddc"
      },
      "execution_count": 59,
      "outputs": [
        {
          "output_type": "execute_result",
          "data": {
            "text/plain": [
              "('Hieee', 100, 100, 12.47)"
            ]
          },
          "metadata": {},
          "execution_count": 59
        }
      ]
    },
    {
      "cell_type": "markdown",
      "source": [
        "## Indexing in Tuple's"
      ],
      "metadata": {
        "id": "O0tgPhLNBnrr"
      }
    },
    {
      "cell_type": "code",
      "source": [
        "my_tuple[0]"
      ],
      "metadata": {
        "colab": {
          "base_uri": "https://localhost:8080/",
          "height": 36
        },
        "id": "_TZHxmDdB6dZ",
        "outputId": "8b6abe87-e059-4e56-ddea-f51d3a833e93"
      },
      "execution_count": 49,
      "outputs": [
        {
          "output_type": "execute_result",
          "data": {
            "text/plain": [
              "'Hieee'"
            ],
            "application/vnd.google.colaboratory.intrinsic+json": {
              "type": "string"
            }
          },
          "metadata": {},
          "execution_count": 49
        }
      ]
    },
    {
      "cell_type": "code",
      "source": [
        "my_tuple[1]"
      ],
      "metadata": {
        "colab": {
          "base_uri": "https://localhost:8080/"
        },
        "id": "Hmd7DxQgB78N",
        "outputId": "100f07af-48c3-411f-8010-91d1272c98a4"
      },
      "execution_count": 50,
      "outputs": [
        {
          "output_type": "execute_result",
          "data": {
            "text/plain": [
              "100"
            ]
          },
          "metadata": {},
          "execution_count": 50
        }
      ]
    },
    {
      "cell_type": "code",
      "source": [
        "my_tuple[0:2]"
      ],
      "metadata": {
        "colab": {
          "base_uri": "https://localhost:8080/"
        },
        "id": "tnVND9iuCIAq",
        "outputId": "d616009b-eb4e-4acc-df72-7813de5cc0b7"
      },
      "execution_count": 52,
      "outputs": [
        {
          "output_type": "execute_result",
          "data": {
            "text/plain": [
              "('Hieee', 100)"
            ]
          },
          "metadata": {},
          "execution_count": 52
        }
      ]
    },
    {
      "cell_type": "code",
      "source": [
        "perfect_squares[2:5]"
      ],
      "metadata": {
        "colab": {
          "base_uri": "https://localhost:8080/"
        },
        "id": "CXkV6NrmCIkl",
        "outputId": "482b8ba3-cdc2-411a-a480-0cc666cdfdcb"
      },
      "execution_count": 55,
      "outputs": [
        {
          "output_type": "execute_result",
          "data": {
            "text/plain": [
              "[9, 16, 25]"
            ]
          },
          "metadata": {},
          "execution_count": 55
        }
      ]
    },
    {
      "cell_type": "code",
      "source": [
        "my_tuple.count(100)"
      ],
      "metadata": {
        "colab": {
          "base_uri": "https://localhost:8080/"
        },
        "id": "L-bGkIQVCl6V",
        "outputId": "bc09195e-98d5-46a7-f714-46215dc9c24c"
      },
      "execution_count": 57,
      "outputs": [
        {
          "output_type": "execute_result",
          "data": {
            "text/plain": [
              "1"
            ]
          },
          "metadata": {},
          "execution_count": 57
        }
      ]
    },
    {
      "cell_type": "code",
      "source": [
        "my_tuple[3]"
      ],
      "metadata": {
        "colab": {
          "base_uri": "https://localhost:8080/"
        },
        "id": "pzu00-BADE7y",
        "outputId": "f54a3c52-7ec7-441d-f41f-c7730a9b8d50"
      },
      "execution_count": 60,
      "outputs": [
        {
          "output_type": "execute_result",
          "data": {
            "text/plain": [
              "12.47"
            ]
          },
          "metadata": {},
          "execution_count": 60
        }
      ]
    },
    {
      "cell_type": "code",
      "source": [
        "# Define a Tuple\n",
        "# Indexing in Tuple's\n",
        "# Defference between the List and Tuple"
      ],
      "metadata": {
        "id": "rcOl9apWDmp3"
      },
      "execution_count": 61,
      "outputs": []
    },
    {
      "cell_type": "markdown",
      "source": [
        "Sets"
      ],
      "metadata": {
        "id": "SJm1k7vAD97g"
      }
    },
    {
      "cell_type": "code",
      "source": [
        "my_set = set()"
      ],
      "metadata": {
        "id": "sKSOaO7TD_yr"
      },
      "execution_count": 62,
      "outputs": []
    },
    {
      "cell_type": "code",
      "source": [
        "my_list = [1, 1, 1, 2, 2, 2, 3, \"Apple\", \"Apple\"]"
      ],
      "metadata": {
        "id": "eFo4GIxnECN4"
      },
      "execution_count": 66,
      "outputs": []
    },
    {
      "cell_type": "code",
      "source": [
        "set(my_list)"
      ],
      "metadata": {
        "colab": {
          "base_uri": "https://localhost:8080/"
        },
        "id": "VG2c7o-nEGZj",
        "outputId": "5821a0a1-2410-4375-c9c9-f02e6ad6bea7"
      },
      "execution_count": 67,
      "outputs": [
        {
          "output_type": "execute_result",
          "data": {
            "text/plain": [
              "{1, 2, 3, 'Apple'}"
            ]
          },
          "metadata": {},
          "execution_count": 67
        }
      ]
    },
    {
      "cell_type": "code",
      "source": [
        "my_set"
      ],
      "metadata": {
        "colab": {
          "base_uri": "https://localhost:8080/"
        },
        "id": "718oje6fEH89",
        "outputId": "d9c2a6b7-ff1b-4eb4-f7f1-1141fb2a24a5"
      },
      "execution_count": 68,
      "outputs": [
        {
          "output_type": "execute_result",
          "data": {
            "text/plain": [
              "set()"
            ]
          },
          "metadata": {},
          "execution_count": 68
        }
      ]
    },
    {
      "cell_type": "code",
      "source": [
        "my_set.add(22)"
      ],
      "metadata": {
        "id": "lisLZpRGENZg"
      },
      "execution_count": 69,
      "outputs": []
    },
    {
      "cell_type": "code",
      "source": [
        "my_set.add(23)"
      ],
      "metadata": {
        "id": "Kp-iAg8FEgau"
      },
      "execution_count": 70,
      "outputs": []
    },
    {
      "cell_type": "code",
      "source": [
        "my_set"
      ],
      "metadata": {
        "colab": {
          "base_uri": "https://localhost:8080/"
        },
        "id": "_RJVYxzFEiNx",
        "outputId": "3057f255-a98e-403e-83ca-8b205a8d51d6"
      },
      "execution_count": 71,
      "outputs": [
        {
          "output_type": "execute_result",
          "data": {
            "text/plain": [
              "{22, 23}"
            ]
          },
          "metadata": {},
          "execution_count": 71
        }
      ]
    },
    {
      "cell_type": "markdown",
      "source": [
        "## Strings ...Part II"
      ],
      "metadata": {
        "id": "IPDwIZXtEjQm"
      }
    }
  ]
}