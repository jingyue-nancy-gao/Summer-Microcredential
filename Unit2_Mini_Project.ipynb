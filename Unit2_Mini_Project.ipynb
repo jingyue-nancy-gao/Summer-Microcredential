{
  "nbformat": 4,
  "nbformat_minor": 0,
  "metadata": {
    "colab": {
      "name": "Unit2_Mini_Project.ipynb",
      "provenance": [],
      "collapsed_sections": [],
      "include_colab_link": true
    },
    "kernelspec": {
      "name": "python3",
      "display_name": "Python 3"
    }
  },
  "cells": [
    {
      "cell_type": "markdown",
      "metadata": {
        "id": "view-in-github",
        "colab_type": "text"
      },
      "source": [
        "<a href=\"https://colab.research.google.com/github/jingyue-nancy-gao/Summer-Microcredential/blob/main/Unit2_Mini_Project.ipynb\" target=\"_parent\"><img src=\"https://colab.research.google.com/assets/colab-badge.svg\" alt=\"Open In Colab\"/></a>"
      ]
    },
    {
      "cell_type": "markdown",
      "metadata": {
        "id": "Vgs8Kp4TidFQ"
      },
      "source": [
        "# Intrdouction to Python - Mini Project"
      ]
    },
    {
      "cell_type": "markdown",
      "metadata": {
        "id": "_Hq7Ny79iwgD"
      },
      "source": [
        "#Python Project – Odd or Even\n",
        "\n",
        "Ask the user for a number. Depending on whether the number is even or odd, print out an appropriate message to the user. Hint: how does an even / odd number react differently when divided by 2?\n"
      ]
    },
    {
      "cell_type": "code",
      "metadata": {
        "id": "lotvpVpvlKsR",
        "colab": {
          "base_uri": "https://localhost:8080/"
        },
        "outputId": "a5fd6022-314c-4528-adbc-1c94b1769b3b"
      },
      "source": [
        "n = int(input(\"Enter a number: \"))\n",
        "# In this line, I am defining an varible n.\n",
        "# To define a varible, I requested user to input a number and then assigned this number to the varible n.\n",
        "# By assign I mean to simply use a single equal sign.\n",
        "\n",
        "if n % 2 == 0:\n",
        "  print (\"It's an even number\")\n",
        "else:\n",
        "  print (\"It's an odd number\")\n",
        "\n",
        "# In this line, I am having a condition statements.\n",
        "# To have a condition statement, I used the structure that [if (condition):  do something][else: do something]]\n",
        "# By conditioning it, I mean to get its bool value.\n",
        "# If n divided by 2 equals to 0 is [True], then print out the message \"It's an even number\"\n",
        "# If n divided by 2 equals to 0 is NOT [True], then print out the message \"It's an odd number\""
      ],
      "execution_count": null,
      "outputs": [
        {
          "output_type": "stream",
          "name": "stdout",
          "text": [
            "Enter a number: 8\n",
            "It's an even number\n"
          ]
        }
      ]
    },
    {
      "cell_type": "markdown",
      "metadata": {
        "id": "io_27RSlizno"
      },
      "source": [
        "# Bonus:\n",
        "\n",
        "1.\tIf the number is a multiple of 4, print out a different message.\n",
        "\n",
        "2.\tAsk the user for two numbers: one number to check (call it num) and one number to divide by (check). If check divides evenly into num, tell that to the user. If not, print a different appropriate message.\n"
      ]
    },
    {
      "cell_type": "code",
      "metadata": {
        "id": "Dh1o5cAylSHB",
        "colab": {
          "base_uri": "https://localhost:8080/"
        },
        "outputId": "83620c25-1b30-4ab8-d899-bccdfe25e675"
      },
      "source": [
        "n = int(input(\"Enter a number: \"))\n",
        "# In this line, I am defining an varible n.\n",
        "# To define a varible, I requested user to input a number and then assigned this number to the varible n.\n",
        "# By assign I mean to simply use a single equal sign.\n",
        "\n",
        "if n % 4 == 0:\n",
        "  print (\"It can be evenly divided by 4\");\n",
        "elif n % 2 == 0:\n",
        "  print (\"It's an even number\")\n",
        "else:\n",
        "  print (\"It's an odd number\")\n",
        "\n",
        "# In this line, I am having a condition statements.\n",
        "# To have a condition statement, I used the structure that [if (condition):  do something][elif(condition): do something][else: do something]]\n",
        "# By conditioning it, I mean to get its bool value.\n",
        "# If n divided by 4 equals to 0 is [True], then print out the message \"It can be evenly divided by 4\"\n",
        "# If n divided by 4 equals to 0 is NOT [True], but n divided by 2 equals to 0 is [True], then print out the message \"It's an even number\"\n",
        "# If n divided by 2 equals to 0 is NOT [True], and n divided by 2 equals to 0 is NOT [True], then print out the message \"It's an odd number\""
      ],
      "execution_count": 2,
      "outputs": [
        {
          "output_type": "stream",
          "name": "stdout",
          "text": [
            "Enter a number: 16\n",
            "It can be evenly divided by 4\n"
          ]
        }
      ]
    },
    {
      "cell_type": "code",
      "metadata": {
        "id": "vs8ppR-wlSKL",
        "colab": {
          "base_uri": "https://localhost:8080/"
        },
        "outputId": "cf6b5536-b6ef-464c-d95e-1acc2fc813c5"
      },
      "source": [
        "num = int(input(\"Enter one number to check: \"))\n",
        "# In this line, I am defining an varible num.\n",
        "# To define a varible, I requested user to input a number and then assigned this number to the varible num.\n",
        "# By assign I mean to simply use a single equal sign.\n",
        "\n",
        "check = int(input(\"Enter one number to divide by: \"))\n",
        "# In this line, I am defining an varible check.\n",
        "# To define a varible, I requested user to input a divider and then assigned this number to the varible check.\n",
        "# By assign I mean to simply use a single equal sign.\n",
        "\n",
        "if check == 0:\n",
        "  print (\"Check cannot be 0\");\n",
        "elif num % check == 0:\n",
        "  print (\"This number can be evenly divided by this divider\")\n",
        "else:\n",
        "  print (\"This number cannot be evenly divided by this divider\")\n",
        "# In this line, I am having a condition statements.\n",
        "# To have a condition statement, I used the structure that [if (condition):  do something][elif(condition): do something][else: do something]]\n",
        "# By conditioning it, I mean to get its bool value.\n",
        "# If check equals to 0 is [True], then print out the message \"Divider cannot be 0\"\n",
        "# If check equals to 0 is NOT [True] but num divided by check equals to 0 is [True], then print out the message \"This number can be evenly divided by this divider\"\n",
        "# If check equals to 0 is NOT [True], and num divided by check equals to 0 is NOT [True], then print out the message \"This number cannot be evenly divided by this divider\""
      ],
      "execution_count": 5,
      "outputs": [
        {
          "output_type": "stream",
          "name": "stdout",
          "text": [
            "Enter one number to check: 15\n",
            "Enter one number to divide by: 4\n",
            "This number cannot be evenly divided by this divider\n"
          ]
        }
      ]
    }
  ]
}